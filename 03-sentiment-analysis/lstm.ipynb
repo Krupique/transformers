{
 "cells": [
  {
   "cell_type": "markdown",
   "metadata": {},
   "source": [
    "# Long Short-Term Memory (LSTM)"
   ]
  },
  {
   "cell_type": "code",
   "execution_count": 1,
   "metadata": {},
   "outputs": [],
   "source": [
    "import math\n",
    "import pandas as pd\n",
    "import numpy as np \n",
    "import tensorflow as tf\n",
    "import warnings\n",
    "import spacy\n",
    "\n",
    "import matplotlib.pyplot as plt\n",
    "import seaborn as sns\n",
    "\n",
    "from tensorflow.keras.preprocessing.text import Tokenizer\n",
    "from sklearn.preprocessing import LabelEncoder\n",
    "from sklearn.metrics import confusion_matrix, accuracy_score, classification_report\n",
    "from keras.utils import to_categorical\n",
    "from keras.metrics import Precision, Recall, AUC\n",
    "from tensorflow.keras.preprocessing.sequence import pad_sequences\n",
    "\n",
    "\n",
    "warnings.filterwarnings(\"ignore\")\n",
    "pd.set_option('display.max_columns', None)\n",
    "pd.set_option('display.max_colwidth', None)"
   ]
  },
  {
   "cell_type": "markdown",
   "metadata": {},
   "source": [
    "## Load Data"
   ]
  },
  {
   "cell_type": "code",
   "execution_count": 5,
   "metadata": {},
   "outputs": [
    {
     "name": "stdout",
     "output_type": "stream",
     "text": [
      "(16000, 2)\n",
      "(2000, 2)\n"
     ]
    }
   ],
   "source": [
    "df_train = pd.read_csv('data/train_data.txt', header=None, delimiter=';')\n",
    "df_test = pd.read_csv('data/test_data.txt', header=None, delimiter=';')\n",
    "\n",
    "df_train = df_train.rename(columns= {0: 'text', 1: 'feeling'})\n",
    "df_test = df_test.rename(columns= {0: 'text', 1: 'feeling'})\n",
    "\n",
    "print(df_train.shape)\n",
    "print(df_test.shape)"
   ]
  },
  {
   "cell_type": "code",
   "execution_count": 6,
   "metadata": {},
   "outputs": [
    {
     "data": {
      "text/html": [
       "<div>\n",
       "<style scoped>\n",
       "    .dataframe tbody tr th:only-of-type {\n",
       "        vertical-align: middle;\n",
       "    }\n",
       "\n",
       "    .dataframe tbody tr th {\n",
       "        vertical-align: top;\n",
       "    }\n",
       "\n",
       "    .dataframe thead th {\n",
       "        text-align: right;\n",
       "    }\n",
       "</style>\n",
       "<table border=\"1\" class=\"dataframe\">\n",
       "  <thead>\n",
       "    <tr style=\"text-align: right;\">\n",
       "      <th></th>\n",
       "      <th>text</th>\n",
       "      <th>feeling</th>\n",
       "    </tr>\n",
       "  </thead>\n",
       "  <tbody>\n",
       "    <tr>\n",
       "      <th>0</th>\n",
       "      <td>i am feeling completely overwhelmed i have two strategies that help me to feel grounded pour my heart out in my journal in the form of a letter to god and then end with a list of five things i am most grateful for</td>\n",
       "      <td>fear</td>\n",
       "    </tr>\n",
       "    <tr>\n",
       "      <th>1</th>\n",
       "      <td>i have the feeling she was amused and delighted</td>\n",
       "      <td>joy</td>\n",
       "    </tr>\n",
       "    <tr>\n",
       "      <th>2</th>\n",
       "      <td>i was able to help chai lifeline with your support and encouragement is a great feeling and i am so glad you were able to help me</td>\n",
       "      <td>joy</td>\n",
       "    </tr>\n",
       "  </tbody>\n",
       "</table>\n",
       "</div>"
      ],
      "text/plain": [
       "                                                                                                                                                                                                                    text  \\\n",
       "0  i am feeling completely overwhelmed i have two strategies that help me to feel grounded pour my heart out in my journal in the form of a letter to god and then end with a list of five things i am most grateful for   \n",
       "1                                                                                                                                                                        i have the feeling she was amused and delighted   \n",
       "2                                                                                      i was able to help chai lifeline with your support and encouragement is a great feeling and i am so glad you were able to help me   \n",
       "\n",
       "  feeling  \n",
       "0    fear  \n",
       "1     joy  \n",
       "2     joy  "
      ]
     },
     "metadata": {},
     "output_type": "display_data"
    },
    {
     "data": {
      "text/html": [
       "<div>\n",
       "<style scoped>\n",
       "    .dataframe tbody tr th:only-of-type {\n",
       "        vertical-align: middle;\n",
       "    }\n",
       "\n",
       "    .dataframe tbody tr th {\n",
       "        vertical-align: top;\n",
       "    }\n",
       "\n",
       "    .dataframe thead th {\n",
       "        text-align: right;\n",
       "    }\n",
       "</style>\n",
       "<table border=\"1\" class=\"dataframe\">\n",
       "  <thead>\n",
       "    <tr style=\"text-align: right;\">\n",
       "      <th></th>\n",
       "      <th>text</th>\n",
       "      <th>feeling</th>\n",
       "    </tr>\n",
       "  </thead>\n",
       "  <tbody>\n",
       "    <tr>\n",
       "      <th>0</th>\n",
       "      <td>i feel like my only role now would be to tear your sails with my pessimism and discontent</td>\n",
       "      <td>sadness</td>\n",
       "    </tr>\n",
       "    <tr>\n",
       "      <th>1</th>\n",
       "      <td>i feel just bcoz a fight we get mad to each other n u wanna make a publicity n let the world knows about our fight</td>\n",
       "      <td>anger</td>\n",
       "    </tr>\n",
       "    <tr>\n",
       "      <th>2</th>\n",
       "      <td>i feel like reds and purples are just so rich and kind of perfect</td>\n",
       "      <td>joy</td>\n",
       "    </tr>\n",
       "  </tbody>\n",
       "</table>\n",
       "</div>"
      ],
      "text/plain": [
       "                                                                                                                 text  \\\n",
       "0                           i feel like my only role now would be to tear your sails with my pessimism and discontent   \n",
       "1  i feel just bcoz a fight we get mad to each other n u wanna make a publicity n let the world knows about our fight   \n",
       "2                                                   i feel like reds and purples are just so rich and kind of perfect   \n",
       "\n",
       "   feeling  \n",
       "0  sadness  \n",
       "1    anger  \n",
       "2      joy  "
      ]
     },
     "metadata": {},
     "output_type": "display_data"
    }
   ],
   "source": [
    "display(df_train.head(3))\n",
    "display(df_test.head(3))"
   ]
  },
  {
   "cell_type": "markdown",
   "metadata": {},
   "source": [
    "> The column **text** is going to be the input feature and **feeling** is going to be the output target."
   ]
  },
  {
   "cell_type": "code",
   "execution_count": 7,
   "metadata": {},
   "outputs": [
    {
     "data": {
      "text/plain": [
       "feeling\n",
       "joy         5362\n",
       "sadness     4666\n",
       "anger       2159\n",
       "fear        1937\n",
       "love        1304\n",
       "surprise     572\n",
       "Name: count, dtype: int64"
      ]
     },
     "execution_count": 7,
     "metadata": {},
     "output_type": "execute_result"
    }
   ],
   "source": [
    "df_train['feeling'].value_counts()"
   ]
  },
  {
   "cell_type": "code",
   "execution_count": 8,
   "metadata": {},
   "outputs": [
    {
     "data": {
      "text/plain": [
       "feeling\n",
       "joy         695\n",
       "sadness     581\n",
       "anger       275\n",
       "fear        224\n",
       "love        159\n",
       "surprise     66\n",
       "Name: count, dtype: int64"
      ]
     },
     "execution_count": 8,
     "metadata": {},
     "output_type": "execute_result"
    }
   ],
   "source": [
    "df_test['feeling'].value_counts()"
   ]
  },
  {
   "cell_type": "markdown",
   "metadata": {},
   "source": [
    "> The column **text** is going to be the input feature and **feeling** is going to be the output target."
   ]
  },
  {
   "cell_type": "markdown",
   "metadata": {},
   "source": [
    "## Data preprocessing using Spacy\n",
    "\n",
    "[Oficial site](https://spacy.io/)."
   ]
  },
  {
   "cell_type": "code",
   "execution_count": null,
   "metadata": {},
   "outputs": [],
   "source": [
    "!python -m spacy download en_core_web_md -q"
   ]
  },
  {
   "cell_type": "code",
   "execution_count": 9,
   "metadata": {},
   "outputs": [],
   "source": [
    "# Load the dict\n",
    "spacy_nlp = spacy.load('en_core_web_md')"
   ]
  },
  {
   "cell_type": "code",
   "execution_count": 10,
   "metadata": {},
   "outputs": [],
   "source": [
    "def data_preprocessing(text):\n",
    "\n",
    "    doc = spacy_nlp(text)\n",
    "\n",
    "    tokens = [token.lemma_.lower().strip() for token in doc if not token.is_stop]\n",
    "\n",
    "    return ' '.join(tokens)"
   ]
  },
  {
   "cell_type": "code",
   "execution_count": 11,
   "metadata": {},
   "outputs": [],
   "source": [
    "df_train['transformed_text'] = df_train['text'].apply(data_preprocessing)\n",
    "df_test['transformed_text'] = df_test['text'].apply(data_preprocessing)"
   ]
  },
  {
   "cell_type": "code",
   "execution_count": 12,
   "metadata": {},
   "outputs": [
    {
     "data": {
      "text/html": [
       "<div>\n",
       "<style scoped>\n",
       "    .dataframe tbody tr th:only-of-type {\n",
       "        vertical-align: middle;\n",
       "    }\n",
       "\n",
       "    .dataframe tbody tr th {\n",
       "        vertical-align: top;\n",
       "    }\n",
       "\n",
       "    .dataframe thead th {\n",
       "        text-align: right;\n",
       "    }\n",
       "</style>\n",
       "<table border=\"1\" class=\"dataframe\">\n",
       "  <thead>\n",
       "    <tr style=\"text-align: right;\">\n",
       "      <th></th>\n",
       "      <th>text</th>\n",
       "      <th>feeling</th>\n",
       "      <th>transformed_text</th>\n",
       "    </tr>\n",
       "  </thead>\n",
       "  <tbody>\n",
       "    <tr>\n",
       "      <th>0</th>\n",
       "      <td>i am feeling completely overwhelmed i have two strategies that help me to feel grounded pour my heart out in my journal in the form of a letter to god and then end with a list of five things i am most grateful for</td>\n",
       "      <td>fear</td>\n",
       "      <td>feel completely overwhelmed strategy help feel ground pour heart journal form letter god end list thing grateful</td>\n",
       "    </tr>\n",
       "    <tr>\n",
       "      <th>1</th>\n",
       "      <td>i have the feeling she was amused and delighted</td>\n",
       "      <td>joy</td>\n",
       "      <td>feeling amuse delight</td>\n",
       "    </tr>\n",
       "    <tr>\n",
       "      <th>2</th>\n",
       "      <td>i was able to help chai lifeline with your support and encouragement is a great feeling and i am so glad you were able to help me</td>\n",
       "      <td>joy</td>\n",
       "      <td>able help chai lifeline support encouragement great feeling glad able help</td>\n",
       "    </tr>\n",
       "    <tr>\n",
       "      <th>3</th>\n",
       "      <td>i already feel like i fucked up though because i dont usually eat at all in the morning</td>\n",
       "      <td>anger</td>\n",
       "      <td>feel like fuck not usually eat morning</td>\n",
       "    </tr>\n",
       "    <tr>\n",
       "      <th>4</th>\n",
       "      <td>i still love my so and wish the best for him i can no longer tolerate the effect that bm has on our lives and the fact that is has turned my so into a bitter angry person who is not always particularly kind to the people around him when he is feeling stressed</td>\n",
       "      <td>sadness</td>\n",
       "      <td>love wish good long tolerate effect bm life fact turn bitter angry person particularly kind people feel stress</td>\n",
       "    </tr>\n",
       "  </tbody>\n",
       "</table>\n",
       "</div>"
      ],
      "text/plain": [
       "                                                                                                                                                                                                                                                                  text  \\\n",
       "0                                                i am feeling completely overwhelmed i have two strategies that help me to feel grounded pour my heart out in my journal in the form of a letter to god and then end with a list of five things i am most grateful for   \n",
       "1                                                                                                                                                                                                                      i have the feeling she was amused and delighted   \n",
       "2                                                                                                                                    i was able to help chai lifeline with your support and encouragement is a great feeling and i am so glad you were able to help me   \n",
       "3                                                                                                                                                                              i already feel like i fucked up though because i dont usually eat at all in the morning   \n",
       "4  i still love my so and wish the best for him i can no longer tolerate the effect that bm has on our lives and the fact that is has turned my so into a bitter angry person who is not always particularly kind to the people around him when he is feeling stressed   \n",
       "\n",
       "   feeling  \\\n",
       "0     fear   \n",
       "1      joy   \n",
       "2      joy   \n",
       "3    anger   \n",
       "4  sadness   \n",
       "\n",
       "                                                                                                   transformed_text  \n",
       "0  feel completely overwhelmed strategy help feel ground pour heart journal form letter god end list thing grateful  \n",
       "1                                                                                             feeling amuse delight  \n",
       "2                                        able help chai lifeline support encouragement great feeling glad able help  \n",
       "3                                                                            feel like fuck not usually eat morning  \n",
       "4    love wish good long tolerate effect bm life fact turn bitter angry person particularly kind people feel stress  "
      ]
     },
     "metadata": {},
     "output_type": "display_data"
    },
    {
     "data": {
      "text/html": [
       "<div>\n",
       "<style scoped>\n",
       "    .dataframe tbody tr th:only-of-type {\n",
       "        vertical-align: middle;\n",
       "    }\n",
       "\n",
       "    .dataframe tbody tr th {\n",
       "        vertical-align: top;\n",
       "    }\n",
       "\n",
       "    .dataframe thead th {\n",
       "        text-align: right;\n",
       "    }\n",
       "</style>\n",
       "<table border=\"1\" class=\"dataframe\">\n",
       "  <thead>\n",
       "    <tr style=\"text-align: right;\">\n",
       "      <th></th>\n",
       "      <th>text</th>\n",
       "      <th>feeling</th>\n",
       "      <th>transformed_text</th>\n",
       "    </tr>\n",
       "  </thead>\n",
       "  <tbody>\n",
       "    <tr>\n",
       "      <th>0</th>\n",
       "      <td>i feel like my only role now would be to tear your sails with my pessimism and discontent</td>\n",
       "      <td>sadness</td>\n",
       "      <td>feel like role tear sail pessimism discontent</td>\n",
       "    </tr>\n",
       "    <tr>\n",
       "      <th>1</th>\n",
       "      <td>i feel just bcoz a fight we get mad to each other n u wanna make a publicity n let the world knows about our fight</td>\n",
       "      <td>anger</td>\n",
       "      <td>feel bcoz fight mad n u wanna publicity n let world know fight</td>\n",
       "    </tr>\n",
       "    <tr>\n",
       "      <th>2</th>\n",
       "      <td>i feel like reds and purples are just so rich and kind of perfect</td>\n",
       "      <td>joy</td>\n",
       "      <td>feel like red purple rich kind perfect</td>\n",
       "    </tr>\n",
       "    <tr>\n",
       "      <th>3</th>\n",
       "      <td>im not sure the feeling of loss will ever go away but it may dull to a sweet feeling of nostalgia at what i shared in this life with my dad and the luck i had to have a dad for years</td>\n",
       "      <td>sadness</td>\n",
       "      <td>m sure feeling loss away dull sweet feeling nostalgia share life dad luck dad year</td>\n",
       "    </tr>\n",
       "    <tr>\n",
       "      <th>4</th>\n",
       "      <td>i feel like ive gotten to know many of you through comments and emails and for that im appreciative and glad you are a part of this little space</td>\n",
       "      <td>joy</td>\n",
       "      <td>feel like ve get know comment email m appreciative glad little space</td>\n",
       "    </tr>\n",
       "  </tbody>\n",
       "</table>\n",
       "</div>"
      ],
      "text/plain": [
       "                                                                                                                                                                                     text  \\\n",
       "0                                                                                               i feel like my only role now would be to tear your sails with my pessimism and discontent   \n",
       "1                                                                      i feel just bcoz a fight we get mad to each other n u wanna make a publicity n let the world knows about our fight   \n",
       "2                                                                                                                       i feel like reds and purples are just so rich and kind of perfect   \n",
       "3  im not sure the feeling of loss will ever go away but it may dull to a sweet feeling of nostalgia at what i shared in this life with my dad and the luck i had to have a dad for years   \n",
       "4                                        i feel like ive gotten to know many of you through comments and emails and for that im appreciative and glad you are a part of this little space   \n",
       "\n",
       "   feeling  \\\n",
       "0  sadness   \n",
       "1    anger   \n",
       "2      joy   \n",
       "3  sadness   \n",
       "4      joy   \n",
       "\n",
       "                                                                     transformed_text  \n",
       "0                                       feel like role tear sail pessimism discontent  \n",
       "1                      feel bcoz fight mad n u wanna publicity n let world know fight  \n",
       "2                                              feel like red purple rich kind perfect  \n",
       "3  m sure feeling loss away dull sweet feeling nostalgia share life dad luck dad year  \n",
       "4                feel like ve get know comment email m appreciative glad little space  "
      ]
     },
     "metadata": {},
     "output_type": "display_data"
    }
   ],
   "source": [
    "display(df_train.head())\n",
    "display(df_test.head())"
   ]
  },
  {
   "cell_type": "code",
   "execution_count": 27,
   "metadata": {},
   "outputs": [],
   "source": [
    "# Defining the tokenizer\n",
    "tokenizer = Tokenizer()\n",
    "\n",
    "# Adjusting the tokenizer with processed text\n",
    "tokenizer.fit_on_texts(df_train['transformed_text'])\n",
    "\n",
    "# Extracting words index\n",
    "word_index = tokenizer.word_index\n",
    "\n",
    "# Converting training texts to tokens sequence\n",
    "train_seq = tokenizer.texts_to_sequences(df_train['transformed_text'])\n",
    "\n",
    "# Defining sequence max length\n",
    "max_lenght = 200\n",
    "\n",
    "# Padding of training sequences\n",
    "train_pad_seq = pad_sequences(train_seq, maxlen = max_lenght, truncating = 'post')"
   ]
  },
  {
   "cell_type": "markdown",
   "metadata": {},
   "source": [
    "\"**Padding**\" is a technique commonly used in sequence data processing, especially in natural language processing (NLP) tasks. Padding is used to standardize the length of sequences. This is done by adding a special value (usually 0) at the beginning or the end of the sequences to extend them to a defined maximum length. This allows the model to process batches of sequences simultaneously, which is essential for training efficiency.\n",
    "\n",
    "In the line above:\n",
    "\n",
    "**maxlen = max_length**: This argument defines the maximum length of the sequences after padding. If a sequence is shorter than max_length, it will be extended with zeros until it reaches this length. If it is longer, it will be truncated.\n",
    "\n",
    "**truncating = 'post'**: This argument specifies how sequences should be truncated to the maximum length if they are longer than max_length. The value 'post' indicates that truncation should occur at the end of the sequence. Alternatively, 'pre' would truncate at the beginning.\n",
    "\n",
    "The result, `sequencias_treino_padded`, will be a matrix where each sequence has exactly max_length elements, with zeros added as padding where necessary. This makes the sequences compatible with many machine learning models, especially those used in NLP."
   ]
  },
  {
   "cell_type": "code",
   "execution_count": 28,
   "metadata": {},
   "outputs": [],
   "source": [
    "test_seq = tokenizer.texts_to_sequences(df_test['transformed_text'])\n",
    "\n",
    "test_pad_seq = pad_sequences(test_seq, maxlen = max_lenght)"
   ]
  },
  {
   "cell_type": "code",
   "execution_count": 30,
   "metadata": {},
   "outputs": [
    {
     "name": "stdout",
     "output_type": "stream",
     "text": [
      "11897\n"
     ]
    }
   ],
   "source": [
    "# Definig Label Encoder\n",
    "le = LabelEncoder()\n",
    "\n",
    "# Fit and transform labels to training\n",
    "y_train_le = le.fit_transform(df_train['feeling'])\n",
    "y_test_le = le.transform(df_test['feeling'])\n",
    "\n",
    "# Converting to categorical\n",
    "y_train_encoded = to_categorical(y_train_le)\n",
    "y_test_encoded = to_categorical(y_test_le)\n",
    "\n",
    "# Defining vocabulary size\n",
    "vocab_size = len(tokenizer.word_index) + 1\n",
    "print(vocab_size)\n",
    "\n",
    "# Embedding dim\n",
    "embedding_dim = max_lenght"
   ]
  },
  {
   "cell_type": "code",
   "execution_count": 32,
   "metadata": {},
   "outputs": [],
   "source": [
    "# Building the LSTM model\n",
    "model = tf.keras.Sequential([tf.keras.layers.Embedding(vocab_size, embedding_dim, input_length = max_lenght),\n",
    "                             tf.keras.layers.Bidirectional(tf.keras.layers.LSTM(64)),\n",
    "                             tf.keras.layers.Dropout(0.4),\n",
    "                             tf.keras.layers.Dense(32, activation='leaky_relu', kernel_regularizer=tf.keras.regularizers.l1_l2(l1=0.01, l2=0.01)),\n",
    "                             tf.keras.layers.Dropout(0.4),\n",
    "                             tf.keras.layers.Dense(6, activation='softmax')\n",
    "                             ])"
   ]
  },
  {
   "cell_type": "code",
   "execution_count": 33,
   "metadata": {},
   "outputs": [],
   "source": [
    "# Model compile\n",
    "model.compile(loss='categorical_crossentropy',\n",
    "              optimizer='Adam',\n",
    "              metrics=['accuracy', Precision(), Recall(), AUC()])"
   ]
  },
  {
   "cell_type": "code",
   "execution_count": 34,
   "metadata": {},
   "outputs": [
    {
     "data": {
      "text/html": [
       "<pre style=\"white-space:pre;overflow-x:auto;line-height:normal;font-family:Menlo,'DejaVu Sans Mono',consolas,'Courier New',monospace\"><span style=\"font-weight: bold\">Model: \"sequential\"</span>\n",
       "</pre>\n"
      ],
      "text/plain": [
       "\u001b[1mModel: \"sequential\"\u001b[0m\n"
      ]
     },
     "metadata": {},
     "output_type": "display_data"
    },
    {
     "data": {
      "text/html": [
       "<pre style=\"white-space:pre;overflow-x:auto;line-height:normal;font-family:Menlo,'DejaVu Sans Mono',consolas,'Courier New',monospace\">┏━━━━━━━━━━━━━━━━━━━━━━━━━━━━━━━━━┳━━━━━━━━━━━━━━━━━━━━━━━━┳━━━━━━━━━━━━━━━┓\n",
       "┃<span style=\"font-weight: bold\"> Layer (type)                    </span>┃<span style=\"font-weight: bold\"> Output Shape           </span>┃<span style=\"font-weight: bold\">       Param # </span>┃\n",
       "┡━━━━━━━━━━━━━━━━━━━━━━━━━━━━━━━━━╇━━━━━━━━━━━━━━━━━━━━━━━━╇━━━━━━━━━━━━━━━┩\n",
       "│ embedding_1 (<span style=\"color: #0087ff; text-decoration-color: #0087ff\">Embedding</span>)         │ ?                      │   <span style=\"color: #00af00; text-decoration-color: #00af00\">0</span> (unbuilt) │\n",
       "├─────────────────────────────────┼────────────────────────┼───────────────┤\n",
       "│ bidirectional (<span style=\"color: #0087ff; text-decoration-color: #0087ff\">Bidirectional</span>)   │ ?                      │   <span style=\"color: #00af00; text-decoration-color: #00af00\">0</span> (unbuilt) │\n",
       "├─────────────────────────────────┼────────────────────────┼───────────────┤\n",
       "│ dropout (<span style=\"color: #0087ff; text-decoration-color: #0087ff\">Dropout</span>)               │ ?                      │   <span style=\"color: #00af00; text-decoration-color: #00af00\">0</span> (unbuilt) │\n",
       "├─────────────────────────────────┼────────────────────────┼───────────────┤\n",
       "│ dense (<span style=\"color: #0087ff; text-decoration-color: #0087ff\">Dense</span>)                   │ ?                      │   <span style=\"color: #00af00; text-decoration-color: #00af00\">0</span> (unbuilt) │\n",
       "├─────────────────────────────────┼────────────────────────┼───────────────┤\n",
       "│ dropout_1 (<span style=\"color: #0087ff; text-decoration-color: #0087ff\">Dropout</span>)             │ ?                      │   <span style=\"color: #00af00; text-decoration-color: #00af00\">0</span> (unbuilt) │\n",
       "├─────────────────────────────────┼────────────────────────┼───────────────┤\n",
       "│ dense_1 (<span style=\"color: #0087ff; text-decoration-color: #0087ff\">Dense</span>)                 │ ?                      │   <span style=\"color: #00af00; text-decoration-color: #00af00\">0</span> (unbuilt) │\n",
       "└─────────────────────────────────┴────────────────────────┴───────────────┘\n",
       "</pre>\n"
      ],
      "text/plain": [
       "┏━━━━━━━━━━━━━━━━━━━━━━━━━━━━━━━━━┳━━━━━━━━━━━━━━━━━━━━━━━━┳━━━━━━━━━━━━━━━┓\n",
       "┃\u001b[1m \u001b[0m\u001b[1mLayer (type)                   \u001b[0m\u001b[1m \u001b[0m┃\u001b[1m \u001b[0m\u001b[1mOutput Shape          \u001b[0m\u001b[1m \u001b[0m┃\u001b[1m \u001b[0m\u001b[1m      Param #\u001b[0m\u001b[1m \u001b[0m┃\n",
       "┡━━━━━━━━━━━━━━━━━━━━━━━━━━━━━━━━━╇━━━━━━━━━━━━━━━━━━━━━━━━╇━━━━━━━━━━━━━━━┩\n",
       "│ embedding_1 (\u001b[38;5;33mEmbedding\u001b[0m)         │ ?                      │   \u001b[38;5;34m0\u001b[0m (unbuilt) │\n",
       "├─────────────────────────────────┼────────────────────────┼───────────────┤\n",
       "│ bidirectional (\u001b[38;5;33mBidirectional\u001b[0m)   │ ?                      │   \u001b[38;5;34m0\u001b[0m (unbuilt) │\n",
       "├─────────────────────────────────┼────────────────────────┼───────────────┤\n",
       "│ dropout (\u001b[38;5;33mDropout\u001b[0m)               │ ?                      │   \u001b[38;5;34m0\u001b[0m (unbuilt) │\n",
       "├─────────────────────────────────┼────────────────────────┼───────────────┤\n",
       "│ dense (\u001b[38;5;33mDense\u001b[0m)                   │ ?                      │   \u001b[38;5;34m0\u001b[0m (unbuilt) │\n",
       "├─────────────────────────────────┼────────────────────────┼───────────────┤\n",
       "│ dropout_1 (\u001b[38;5;33mDropout\u001b[0m)             │ ?                      │   \u001b[38;5;34m0\u001b[0m (unbuilt) │\n",
       "├─────────────────────────────────┼────────────────────────┼───────────────┤\n",
       "│ dense_1 (\u001b[38;5;33mDense\u001b[0m)                 │ ?                      │   \u001b[38;5;34m0\u001b[0m (unbuilt) │\n",
       "└─────────────────────────────────┴────────────────────────┴───────────────┘\n"
      ]
     },
     "metadata": {},
     "output_type": "display_data"
    },
    {
     "data": {
      "text/html": [
       "<pre style=\"white-space:pre;overflow-x:auto;line-height:normal;font-family:Menlo,'DejaVu Sans Mono',consolas,'Courier New',monospace\"><span style=\"font-weight: bold\"> Total params: </span><span style=\"color: #00af00; text-decoration-color: #00af00\">0</span> (0.00 B)\n",
       "</pre>\n"
      ],
      "text/plain": [
       "\u001b[1m Total params: \u001b[0m\u001b[38;5;34m0\u001b[0m (0.00 B)\n"
      ]
     },
     "metadata": {},
     "output_type": "display_data"
    },
    {
     "data": {
      "text/html": [
       "<pre style=\"white-space:pre;overflow-x:auto;line-height:normal;font-family:Menlo,'DejaVu Sans Mono',consolas,'Courier New',monospace\"><span style=\"font-weight: bold\"> Trainable params: </span><span style=\"color: #00af00; text-decoration-color: #00af00\">0</span> (0.00 B)\n",
       "</pre>\n"
      ],
      "text/plain": [
       "\u001b[1m Trainable params: \u001b[0m\u001b[38;5;34m0\u001b[0m (0.00 B)\n"
      ]
     },
     "metadata": {},
     "output_type": "display_data"
    },
    {
     "data": {
      "text/html": [
       "<pre style=\"white-space:pre;overflow-x:auto;line-height:normal;font-family:Menlo,'DejaVu Sans Mono',consolas,'Courier New',monospace\"><span style=\"font-weight: bold\"> Non-trainable params: </span><span style=\"color: #00af00; text-decoration-color: #00af00\">0</span> (0.00 B)\n",
       "</pre>\n"
      ],
      "text/plain": [
       "\u001b[1m Non-trainable params: \u001b[0m\u001b[38;5;34m0\u001b[0m (0.00 B)\n"
      ]
     },
     "metadata": {},
     "output_type": "display_data"
    },
    {
     "name": "stdout",
     "output_type": "stream",
     "text": [
      "None\n"
     ]
    }
   ],
   "source": [
    "# Priting the model summary\n",
    "print(model.summary())"
   ]
  },
  {
   "cell_type": "code",
   "execution_count": 41,
   "metadata": {},
   "outputs": [],
   "source": [
    "# Converting to array\n",
    "X_train_array = np.array(train_pad_seq)\n",
    "y_train_array = np.array(y_train_encoded)\n",
    "\n",
    "# Defining Hyperparameters\n",
    "num_epochs = 35\n",
    "validation_split_value = 0.2\n",
    "patience = 5\n",
    "\n",
    "# Early Stopping\n",
    "early_stopping = tf.keras.callbacks.EarlyStopping(patience = patience)"
   ]
  },
  {
   "cell_type": "code",
   "execution_count": 42,
   "metadata": {},
   "outputs": [
    {
     "name": "stdout",
     "output_type": "stream",
     "text": [
      "Epoch 1/35\n",
      "\u001b[1m400/400\u001b[0m \u001b[32m━━━━━━━━━━━━━━━━━━━━\u001b[0m\u001b[37m\u001b[0m \u001b[1m16s\u001b[0m 35ms/step - accuracy: 0.3281 - auc: 0.7018 - loss: 3.5547 - precision: 0.3435 - recall: 0.0049 - val_accuracy: 0.5725 - val_auc: 0.8459 - val_loss: 1.3695 - val_precision: 0.7431 - val_recall: 0.2694\n",
      "Epoch 2/35\n",
      "\u001b[1m400/400\u001b[0m \u001b[32m━━━━━━━━━━━━━━━━━━━━\u001b[0m\u001b[37m\u001b[0m \u001b[1m13s\u001b[0m 32ms/step - accuracy: 0.5915 - auc: 0.8690 - loss: 1.2695 - precision: 0.7449 - recall: 0.3991 - val_accuracy: 0.7119 - val_auc: 0.9393 - val_loss: 0.9567 - val_precision: 0.9177 - val_recall: 0.5572\n",
      "Epoch 3/35\n",
      "\u001b[1m400/400\u001b[0m \u001b[32m━━━━━━━━━━━━━━━━━━━━\u001b[0m\u001b[37m\u001b[0m \u001b[1m13s\u001b[0m 32ms/step - accuracy: 0.7545 - auc: 0.9555 - loss: 0.8612 - precision: 0.9248 - recall: 0.6228 - val_accuracy: 0.8094 - val_auc: 0.9646 - val_loss: 0.7566 - val_precision: 0.9178 - val_recall: 0.7428\n",
      "Epoch 4/35\n",
      "\u001b[1m400/400\u001b[0m \u001b[32m━━━━━━━━━━━━━━━━━━━━\u001b[0m\u001b[37m\u001b[0m \u001b[1m13s\u001b[0m 33ms/step - accuracy: 0.8546 - auc: 0.9798 - loss: 0.6520 - precision: 0.9506 - recall: 0.7600 - val_accuracy: 0.8584 - val_auc: 0.9704 - val_loss: 0.6655 - val_precision: 0.9149 - val_recall: 0.7900\n",
      "Epoch 5/35\n",
      "\u001b[1m400/400\u001b[0m \u001b[32m━━━━━━━━━━━━━━━━━━━━\u001b[0m\u001b[37m\u001b[0m \u001b[1m13s\u001b[0m 33ms/step - accuracy: 0.9024 - auc: 0.9896 - loss: 0.5116 - precision: 0.9659 - recall: 0.8284 - val_accuracy: 0.8553 - val_auc: 0.9743 - val_loss: 0.6333 - val_precision: 0.9042 - val_recall: 0.8112\n",
      "Epoch 6/35\n",
      "\u001b[1m400/400\u001b[0m \u001b[32m━━━━━━━━━━━━━━━━━━━━\u001b[0m\u001b[37m\u001b[0m \u001b[1m15s\u001b[0m 37ms/step - accuracy: 0.9200 - auc: 0.9928 - loss: 0.4414 - precision: 0.9577 - recall: 0.8739 - val_accuracy: 0.8619 - val_auc: 0.9688 - val_loss: 0.6583 - val_precision: 0.8958 - val_recall: 0.8431\n",
      "Epoch 7/35\n",
      "\u001b[1m400/400\u001b[0m \u001b[32m━━━━━━━━━━━━━━━━━━━━\u001b[0m\u001b[37m\u001b[0m \u001b[1m16s\u001b[0m 40ms/step - accuracy: 0.9276 - auc: 0.9938 - loss: 0.4029 - precision: 0.9606 - recall: 0.8946 - val_accuracy: 0.8813 - val_auc: 0.9747 - val_loss: 0.6079 - val_precision: 0.9003 - val_recall: 0.8581\n",
      "Epoch 8/35\n",
      "\u001b[1m400/400\u001b[0m \u001b[32m━━━━━━━━━━━━━━━━━━━━\u001b[0m\u001b[37m\u001b[0m \u001b[1m16s\u001b[0m 39ms/step - accuracy: 0.9496 - auc: 0.9961 - loss: 0.3490 - precision: 0.9706 - recall: 0.9201 - val_accuracy: 0.8859 - val_auc: 0.9766 - val_loss: 0.5781 - val_precision: 0.9000 - val_recall: 0.8747\n",
      "Epoch 9/35\n",
      "\u001b[1m400/400\u001b[0m \u001b[32m━━━━━━━━━━━━━━━━━━━━\u001b[0m\u001b[37m\u001b[0m \u001b[1m15s\u001b[0m 38ms/step - accuracy: 0.9626 - auc: 0.9971 - loss: 0.3111 - precision: 0.9763 - recall: 0.9422 - val_accuracy: 0.8831 - val_auc: 0.9756 - val_loss: 0.5932 - val_precision: 0.8963 - val_recall: 0.8778\n",
      "Epoch 10/35\n",
      "\u001b[1m400/400\u001b[0m \u001b[32m━━━━━━━━━━━━━━━━━━━━\u001b[0m\u001b[37m\u001b[0m \u001b[1m14s\u001b[0m 36ms/step - accuracy: 0.9720 - auc: 0.9975 - loss: 0.2882 - precision: 0.9817 - recall: 0.9553 - val_accuracy: 0.8816 - val_auc: 0.9763 - val_loss: 0.5921 - val_precision: 0.8934 - val_recall: 0.8778\n",
      "Epoch 11/35\n",
      "\u001b[1m400/400\u001b[0m \u001b[32m━━━━━━━━━━━━━━━━━━━━\u001b[0m\u001b[37m\u001b[0m \u001b[1m14s\u001b[0m 36ms/step - accuracy: 0.9718 - auc: 0.9982 - loss: 0.2665 - precision: 0.9808 - recall: 0.9586 - val_accuracy: 0.8875 - val_auc: 0.9769 - val_loss: 0.5758 - val_precision: 0.8964 - val_recall: 0.8788\n",
      "Epoch 12/35\n",
      "\u001b[1m400/400\u001b[0m \u001b[32m━━━━━━━━━━━━━━━━━━━━\u001b[0m\u001b[37m\u001b[0m \u001b[1m14s\u001b[0m 35ms/step - accuracy: 0.9745 - auc: 0.9979 - loss: 0.2624 - precision: 0.9808 - recall: 0.9622 - val_accuracy: 0.8888 - val_auc: 0.9771 - val_loss: 0.5882 - val_precision: 0.8986 - val_recall: 0.8809\n",
      "Epoch 13/35\n",
      "\u001b[1m400/400\u001b[0m \u001b[32m━━━━━━━━━━━━━━━━━━━━\u001b[0m\u001b[37m\u001b[0m \u001b[1m14s\u001b[0m 35ms/step - accuracy: 0.9753 - auc: 0.9986 - loss: 0.2377 - precision: 0.9836 - recall: 0.9647 - val_accuracy: 0.8866 - val_auc: 0.9747 - val_loss: 0.5999 - val_precision: 0.8952 - val_recall: 0.8809\n",
      "Epoch 14/35\n",
      "\u001b[1m400/400\u001b[0m \u001b[32m━━━━━━━━━━━━━━━━━━━━\u001b[0m\u001b[37m\u001b[0m \u001b[1m14s\u001b[0m 34ms/step - accuracy: 0.9772 - auc: 0.9983 - loss: 0.2353 - precision: 0.9838 - recall: 0.9683 - val_accuracy: 0.8819 - val_auc: 0.9768 - val_loss: 0.5869 - val_precision: 0.8925 - val_recall: 0.8772\n",
      "Epoch 15/35\n",
      "\u001b[1m400/400\u001b[0m \u001b[32m━━━━━━━━━━━━━━━━━━━━\u001b[0m\u001b[37m\u001b[0m \u001b[1m14s\u001b[0m 34ms/step - accuracy: 0.9752 - auc: 0.9985 - loss: 0.2363 - precision: 0.9814 - recall: 0.9671 - val_accuracy: 0.8894 - val_auc: 0.9751 - val_loss: 0.5848 - val_precision: 0.9002 - val_recall: 0.8847\n",
      "Epoch 16/35\n",
      "\u001b[1m400/400\u001b[0m \u001b[32m━━━━━━━━━━━━━━━━━━━━\u001b[0m\u001b[37m\u001b[0m \u001b[1m14s\u001b[0m 34ms/step - accuracy: 0.9772 - auc: 0.9990 - loss: 0.2171 - precision: 0.9828 - recall: 0.9705 - val_accuracy: 0.8794 - val_auc: 0.9736 - val_loss: 0.6288 - val_precision: 0.8863 - val_recall: 0.8769\n",
      "CPU times: total: 1min 41s\n",
      "Wall time: 3min 48s\n"
     ]
    }
   ],
   "source": [
    "%%time\n",
    "\n",
    "history = model.fit(X_train_array,\n",
    "                    y_train_array,\n",
    "                    epochs = num_epochs,\n",
    "                    verbose = 1,\n",
    "                    validation_split = validation_split_value,\n",
    "                    callbacks = [early_stopping])"
   ]
  },
  {
   "cell_type": "code",
   "execution_count": 43,
   "metadata": {},
   "outputs": [
    {
     "data": {
      "image/png": "[encoded data removed]",
      "text/plain": [
       "<Figure size 640x480 with 1 Axes>"
      ]
     },
     "metadata": {},
     "output_type": "display_data"
    }
   ],
   "source": [
    "# Plot of error curves\n",
    "loss, val_loss = history.history['loss'], history.history['val_loss']\n",
    "plt.plot(loss, label = 'Erro em Treino')\n",
    "plt.plot(val_loss, label = 'Erro em Validação')\n",
    "plt.legend()\n",
    "plt.show()"
   ]
  },
  {
   "cell_type": "code",
   "execution_count": 46,
   "metadata": {},
   "outputs": [
    {
     "name": "stdout",
     "output_type": "stream",
     "text": [
      "\u001b[1m63/63\u001b[0m \u001b[32m━━━━━━━━━━━━━━━━━━━━\u001b[0m\u001b[37m\u001b[0m \u001b[1m1s\u001b[0m 9ms/step\n",
      "Classification report\n",
      "              precision    recall  f1-score   support\n",
      "\n",
      "           0       0.88      0.89      0.89       275\n",
      "           1       0.84      0.82      0.83       224\n",
      "           2       0.92      0.92      0.92       695\n",
      "           3       0.74      0.75      0.75       159\n",
      "           4       0.93      0.93      0.93       581\n",
      "           5       0.66      0.68      0.67        66\n",
      "\n",
      "    accuracy                           0.89      2000\n",
      "   macro avg       0.83      0.83      0.83      2000\n",
      "weighted avg       0.89      0.89      0.89      2000\n",
      "\n",
      "Confusion Matrix\n",
      "[[244   7   3   5  12   4]\n",
      " [ 13 183   6   1   7  14]\n",
      " [  2   6 638  33  15   1]\n",
      " [  1   3  27 120   6   2]\n",
      " [ 15   8  15   0 541   2]\n",
      " [  1  11   4   4   1  45]]\n",
      "Accuracy\n",
      "0.8855\n"
     ]
    }
   ],
   "source": [
    "# Predictions with test dataset\n",
    "predictions = model.predict(test_pad_seq)\n",
    "\n",
    "# Labels predicteds\n",
    "predictions_labels = predictions.argmax(axis = 1)\n",
    "\n",
    "# Printing classification report\n",
    "print('Classification report')\n",
    "print(classification_report(y_test_le, predictions_labels))\n",
    "\n",
    "# Printing confusion matrix\n",
    "print('Confusion Matrix')\n",
    "print(confusion_matrix(y_test_le, predictions_labels))\n",
    "\n",
    "# Printing Accuracy\n",
    "print('Accuracy')\n",
    "print(accuracy_score(y_test_le, predictions_labels))"
   ]
  },
  {
   "cell_type": "code",
   "execution_count": 48,
   "metadata": {},
   "outputs": [],
   "source": [
    "# Saving the model\n",
    "model.save('models/model_v2.keras')"
   ]
  },
  {
   "cell_type": "markdown",
   "metadata": {},
   "source": [
    "## Loading model"
   ]
  },
  {
   "cell_type": "code",
   "execution_count": 62,
   "metadata": {},
   "outputs": [
    {
     "data": {
      "text/html": [
       "<div>\n",
       "<style scoped>\n",
       "    .dataframe tbody tr th:only-of-type {\n",
       "        vertical-align: middle;\n",
       "    }\n",
       "\n",
       "    .dataframe tbody tr th {\n",
       "        vertical-align: top;\n",
       "    }\n",
       "\n",
       "    .dataframe thead th {\n",
       "        text-align: right;\n",
       "    }\n",
       "</style>\n",
       "<table border=\"1\" class=\"dataframe\">\n",
       "  <thead>\n",
       "    <tr style=\"text-align: right;\">\n",
       "      <th></th>\n",
       "      <th>text</th>\n",
       "      <th>transformed_text</th>\n",
       "    </tr>\n",
       "  </thead>\n",
       "  <tbody>\n",
       "    <tr>\n",
       "      <th>0</th>\n",
       "      <td>I was amazed when she told me that</td>\n",
       "      <td>amazed tell</td>\n",
       "    </tr>\n",
       "  </tbody>\n",
       "</table>\n",
       "</div>"
      ],
      "text/plain": [
       "                                 text transformed_text\n",
       "0  I was amazed when she told me that      amazed tell"
      ]
     },
     "execution_count": 62,
     "metadata": {},
     "output_type": "execute_result"
    }
   ],
   "source": [
    "# Loading the model\n",
    "loaded_model = tf.keras.models.load_model('models/model_v2.keras')\n",
    "\n",
    "# New sentence\n",
    "sentence = 'I was amazed when she told me that'\n",
    "\n",
    "# Creating a dataframe with the sentence\n",
    "df_new = pd.DataFrame({'text': [sentence]})\n",
    "\n",
    "# Applying processing function\n",
    "df_new['transformed_text'] = df_new['text'].apply(data_preprocessing)\n",
    "\n",
    "df_new.head()"
   ]
  },
  {
   "cell_type": "code",
   "execution_count": 63,
   "metadata": {},
   "outputs": [
    {
     "name": "stdout",
     "output_type": "stream",
     "text": [
      "\u001b[1m1/1\u001b[0m \u001b[32m━━━━━━━━━━━━━━━━━━━━\u001b[0m\u001b[37m\u001b[0m \u001b[1m0s\u001b[0m 15ms/step\n",
      "The feeling is ['surprise']\n"
     ]
    }
   ],
   "source": [
    "# Processing new data\n",
    "new_seq = tokenizer.texts_to_sequences(df_new['transformed_text'])\n",
    "new_pad_seq = pad_sequences(new_seq, maxlen=max_lenght)\n",
    "\n",
    "# Predictions with loaded model\n",
    "prediction = model.predict(new_pad_seq)\n",
    "\n",
    "# Seleciona a classe com maior probabilidade\n",
    "class_prob = np.argmax(prediction, axis = 1)\n",
    "\n",
    "# Obtém o nome da classe\n",
    "class_label = le.inverse_transform(class_prob)\n",
    "\n",
    "# Class predicted\n",
    "print(f'The feeling is {class_label}')"
   ]
  },
  {
   "cell_type": "code",
   "execution_count": 64,
   "metadata": {},
   "outputs": [
    {
     "data": {
      "text/plain": [
       "['fear', 'joy', 'anger', 'sadness', 'love', 'surprise']"
      ]
     },
     "execution_count": 64,
     "metadata": {},
     "output_type": "execute_result"
    }
   ],
   "source": [
    "list(df_train['feeling'].unique())"
   ]
  },
  {
   "cell_type": "markdown",
   "metadata": {},
   "source": [
    "# The end"
   ]
  }
 ],
 "metadata": {
  "kernelspec": {
   "display_name": "transformers",
   "language": "python",
   "name": "python3"
  },
  "language_info": {
   "codemirror_mode": {
    "name": "ipython",
    "version": 3
   },
   "file_extension": ".py",
   "mimetype": "text/x-python",
   "name": "python",
   "nbconvert_exporter": "python",
   "pygments_lexer": "ipython3",
   "version": "3.12.3"
  }
 },
 "nbformat": 4,
 "nbformat_minor": 2
}
