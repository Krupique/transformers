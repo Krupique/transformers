{
 "cells": [
  {
   "cell_type": "markdown",
   "metadata": {},
   "source": [
    "# Feedforward Neural Networks (FNN)"
   ]
  },
  {
   "cell_type": "code",
   "execution_count": 1,
   "metadata": {},
   "outputs": [],
   "source": [
    "import math\n",
    "import pandas as pd\n",
    "import numpy as np \n",
    "import tensorflow as tf\n",
    "import warnings\n",
    "import spacy\n",
    "\n",
    "from sklearn.preprocessing import LabelEncoder\n",
    "from sklearn.feature_extraction.text import TfidfVectorizer\n",
    "from sklearn.model_selection import train_test_split\n",
    "from sklearn.utils.class_weight import compute_class_weight\n",
    "from sklearn.metrics import confusion_matrix, accuracy_score, classification_report\n",
    "\n",
    "from tensorflow.keras.utils import to_categorical\n",
    "\n",
    "import matplotlib.pyplot as plt\n",
    "import seaborn as sns\n",
    "\n",
    "\n",
    "warnings.filterwarnings(\"ignore\")\n",
    "pd.set_option('display.max_columns', None)\n",
    "pd.set_option('display.max_colwidth', None)"
   ]
  },
  {
   "cell_type": "markdown",
   "metadata": {},
   "source": [
    "## Load Data"
   ]
  },
  {
   "cell_type": "code",
   "execution_count": 2,
   "metadata": {},
   "outputs": [
    {
     "name": "stdout",
     "output_type": "stream",
     "text": [
      "(16000, 2)\n",
      "(2000, 2)\n"
     ]
    }
   ],
   "source": [
    "df_train = pd.read_csv('data/train_data.txt', header=None, delimiter=';')\n",
    "df_test = pd.read_csv('data/test_data.txt', header=None, delimiter=';')\n",
    "\n",
    "df_train = df_train.rename(columns= {0: 'text', 1: 'feeling'})\n",
    "df_test = df_test.rename(columns= {0: 'text', 1: 'feeling'})\n",
    "\n",
    "print(df_train.shape)\n",
    "print(df_test.shape)"
   ]
  },
  {
   "cell_type": "code",
   "execution_count": 3,
   "metadata": {},
   "outputs": [
    {
     "data": {
      "text/html": [
       "<div>\n",
       "<style scoped>\n",
       "    .dataframe tbody tr th:only-of-type {\n",
       "        vertical-align: middle;\n",
       "    }\n",
       "\n",
       "    .dataframe tbody tr th {\n",
       "        vertical-align: top;\n",
       "    }\n",
       "\n",
       "    .dataframe thead th {\n",
       "        text-align: right;\n",
       "    }\n",
       "</style>\n",
       "<table border=\"1\" class=\"dataframe\">\n",
       "  <thead>\n",
       "    <tr style=\"text-align: right;\">\n",
       "      <th></th>\n",
       "      <th>text</th>\n",
       "      <th>feeling</th>\n",
       "    </tr>\n",
       "  </thead>\n",
       "  <tbody>\n",
       "    <tr>\n",
       "      <th>0</th>\n",
       "      <td>i am feeling completely overwhelmed i have two strategies that help me to feel grounded pour my heart out in my journal in the form of a letter to god and then end with a list of five things i am most grateful for</td>\n",
       "      <td>fear</td>\n",
       "    </tr>\n",
       "    <tr>\n",
       "      <th>1</th>\n",
       "      <td>i have the feeling she was amused and delighted</td>\n",
       "      <td>joy</td>\n",
       "    </tr>\n",
       "    <tr>\n",
       "      <th>2</th>\n",
       "      <td>i was able to help chai lifeline with your support and encouragement is a great feeling and i am so glad you were able to help me</td>\n",
       "      <td>joy</td>\n",
       "    </tr>\n",
       "  </tbody>\n",
       "</table>\n",
       "</div>"
      ],
      "text/plain": [
       "                                                                                                                                                                                                                    text  \\\n",
       "0  i am feeling completely overwhelmed i have two strategies that help me to feel grounded pour my heart out in my journal in the form of a letter to god and then end with a list of five things i am most grateful for   \n",
       "1                                                                                                                                                                        i have the feeling she was amused and delighted   \n",
       "2                                                                                      i was able to help chai lifeline with your support and encouragement is a great feeling and i am so glad you were able to help me   \n",
       "\n",
       "  feeling  \n",
       "0    fear  \n",
       "1     joy  \n",
       "2     joy  "
      ]
     },
     "metadata": {},
     "output_type": "display_data"
    },
    {
     "data": {
      "text/html": [
       "<div>\n",
       "<style scoped>\n",
       "    .dataframe tbody tr th:only-of-type {\n",
       "        vertical-align: middle;\n",
       "    }\n",
       "\n",
       "    .dataframe tbody tr th {\n",
       "        vertical-align: top;\n",
       "    }\n",
       "\n",
       "    .dataframe thead th {\n",
       "        text-align: right;\n",
       "    }\n",
       "</style>\n",
       "<table border=\"1\" class=\"dataframe\">\n",
       "  <thead>\n",
       "    <tr style=\"text-align: right;\">\n",
       "      <th></th>\n",
       "      <th>text</th>\n",
       "      <th>feeling</th>\n",
       "    </tr>\n",
       "  </thead>\n",
       "  <tbody>\n",
       "    <tr>\n",
       "      <th>0</th>\n",
       "      <td>i feel like my only role now would be to tear your sails with my pessimism and discontent</td>\n",
       "      <td>sadness</td>\n",
       "    </tr>\n",
       "    <tr>\n",
       "      <th>1</th>\n",
       "      <td>i feel just bcoz a fight we get mad to each other n u wanna make a publicity n let the world knows about our fight</td>\n",
       "      <td>anger</td>\n",
       "    </tr>\n",
       "    <tr>\n",
       "      <th>2</th>\n",
       "      <td>i feel like reds and purples are just so rich and kind of perfect</td>\n",
       "      <td>joy</td>\n",
       "    </tr>\n",
       "  </tbody>\n",
       "</table>\n",
       "</div>"
      ],
      "text/plain": [
       "                                                                                                                 text  \\\n",
       "0                           i feel like my only role now would be to tear your sails with my pessimism and discontent   \n",
       "1  i feel just bcoz a fight we get mad to each other n u wanna make a publicity n let the world knows about our fight   \n",
       "2                                                   i feel like reds and purples are just so rich and kind of perfect   \n",
       "\n",
       "   feeling  \n",
       "0  sadness  \n",
       "1    anger  \n",
       "2      joy  "
      ]
     },
     "metadata": {},
     "output_type": "display_data"
    }
   ],
   "source": [
    "display(df_train.head(3))\n",
    "display(df_test.head(3))"
   ]
  },
  {
   "cell_type": "markdown",
   "metadata": {},
   "source": [
    "> The column **text** is going to be the input feature and **feeling** is going to be the output target."
   ]
  },
  {
   "cell_type": "code",
   "execution_count": 4,
   "metadata": {},
   "outputs": [
    {
     "data": {
      "text/plain": [
       "feeling\n",
       "joy         5362\n",
       "sadness     4666\n",
       "anger       2159\n",
       "fear        1937\n",
       "love        1304\n",
       "surprise     572\n",
       "Name: count, dtype: int64"
      ]
     },
     "execution_count": 4,
     "metadata": {},
     "output_type": "execute_result"
    }
   ],
   "source": [
    "df_train['feeling'].value_counts()"
   ]
  },
  {
   "cell_type": "code",
   "execution_count": 5,
   "metadata": {},
   "outputs": [
    {
     "data": {
      "text/plain": [
       "feeling\n",
       "joy         695\n",
       "sadness     581\n",
       "anger       275\n",
       "fear        224\n",
       "love        159\n",
       "surprise     66\n",
       "Name: count, dtype: int64"
      ]
     },
     "execution_count": 5,
     "metadata": {},
     "output_type": "execute_result"
    }
   ],
   "source": [
    "df_test['feeling'].value_counts()"
   ]
  },
  {
   "cell_type": "markdown",
   "metadata": {},
   "source": [
    "## Data preprocessing using Spacy\n",
    "\n",
    "[Oficial site](https://spacy.io/)."
   ]
  },
  {
   "cell_type": "code",
   "execution_count": 6,
   "metadata": {},
   "outputs": [
    {
     "name": "stdout",
     "output_type": "stream",
     "text": [
      "\u001b[38;5;2m✔ Download and installation successful\u001b[0m\n",
      "You can now load the package via spacy.load('en_core_web_md')\n"
     ]
    }
   ],
   "source": [
    "# !python -m spacy download en_core_web_md -q"
   ]
  },
  {
   "cell_type": "code",
   "execution_count": 7,
   "metadata": {},
   "outputs": [],
   "source": [
    "# Load the dict\n",
    "spacy_nlp = spacy.load('en_core_web_md')"
   ]
  },
  {
   "cell_type": "code",
   "execution_count": 8,
   "metadata": {},
   "outputs": [],
   "source": [
    "def data_preprocessing(text):\n",
    "\n",
    "    doc = spacy_nlp(text)\n",
    "\n",
    "    tokens = [token.lemma_.lower().strip() for token in doc if not token.is_stop]\n",
    "\n",
    "    return ' '.join(tokens)"
   ]
  },
  {
   "cell_type": "code",
   "execution_count": 9,
   "metadata": {},
   "outputs": [],
   "source": [
    "df_train['transformed_text'] = df_train['text'].apply(data_preprocessing)\n",
    "df_test['transformed_text'] = df_test['text'].apply(data_preprocessing)"
   ]
  },
  {
   "cell_type": "code",
   "execution_count": 10,
   "metadata": {},
   "outputs": [
    {
     "data": {
      "text/html": [
       "<div>\n",
       "<style scoped>\n",
       "    .dataframe tbody tr th:only-of-type {\n",
       "        vertical-align: middle;\n",
       "    }\n",
       "\n",
       "    .dataframe tbody tr th {\n",
       "        vertical-align: top;\n",
       "    }\n",
       "\n",
       "    .dataframe thead th {\n",
       "        text-align: right;\n",
       "    }\n",
       "</style>\n",
       "<table border=\"1\" class=\"dataframe\">\n",
       "  <thead>\n",
       "    <tr style=\"text-align: right;\">\n",
       "      <th></th>\n",
       "      <th>text</th>\n",
       "      <th>feeling</th>\n",
       "      <th>transformed_text</th>\n",
       "    </tr>\n",
       "  </thead>\n",
       "  <tbody>\n",
       "    <tr>\n",
       "      <th>0</th>\n",
       "      <td>i am feeling completely overwhelmed i have two strategies that help me to feel grounded pour my heart out in my journal in the form of a letter to god and then end with a list of five things i am most grateful for</td>\n",
       "      <td>fear</td>\n",
       "      <td>feel completely overwhelmed strategy help feel ground pour heart journal form letter god end list thing grateful</td>\n",
       "    </tr>\n",
       "    <tr>\n",
       "      <th>1</th>\n",
       "      <td>i have the feeling she was amused and delighted</td>\n",
       "      <td>joy</td>\n",
       "      <td>feeling amuse delight</td>\n",
       "    </tr>\n",
       "    <tr>\n",
       "      <th>2</th>\n",
       "      <td>i was able to help chai lifeline with your support and encouragement is a great feeling and i am so glad you were able to help me</td>\n",
       "      <td>joy</td>\n",
       "      <td>able help chai lifeline support encouragement great feeling glad able help</td>\n",
       "    </tr>\n",
       "    <tr>\n",
       "      <th>3</th>\n",
       "      <td>i already feel like i fucked up though because i dont usually eat at all in the morning</td>\n",
       "      <td>anger</td>\n",
       "      <td>feel like fuck not usually eat morning</td>\n",
       "    </tr>\n",
       "    <tr>\n",
       "      <th>4</th>\n",
       "      <td>i still love my so and wish the best for him i can no longer tolerate the effect that bm has on our lives and the fact that is has turned my so into a bitter angry person who is not always particularly kind to the people around him when he is feeling stressed</td>\n",
       "      <td>sadness</td>\n",
       "      <td>love wish good long tolerate effect bm life fact turn bitter angry person particularly kind people feel stress</td>\n",
       "    </tr>\n",
       "  </tbody>\n",
       "</table>\n",
       "</div>"
      ],
      "text/plain": [
       "                                                                                                                                                                                                                                                                  text  \\\n",
       "0                                                i am feeling completely overwhelmed i have two strategies that help me to feel grounded pour my heart out in my journal in the form of a letter to god and then end with a list of five things i am most grateful for   \n",
       "1                                                                                                                                                                                                                      i have the feeling she was amused and delighted   \n",
       "2                                                                                                                                    i was able to help chai lifeline with your support and encouragement is a great feeling and i am so glad you were able to help me   \n",
       "3                                                                                                                                                                              i already feel like i fucked up though because i dont usually eat at all in the morning   \n",
       "4  i still love my so and wish the best for him i can no longer tolerate the effect that bm has on our lives and the fact that is has turned my so into a bitter angry person who is not always particularly kind to the people around him when he is feeling stressed   \n",
       "\n",
       "   feeling  \\\n",
       "0     fear   \n",
       "1      joy   \n",
       "2      joy   \n",
       "3    anger   \n",
       "4  sadness   \n",
       "\n",
       "                                                                                                   transformed_text  \n",
       "0  feel completely overwhelmed strategy help feel ground pour heart journal form letter god end list thing grateful  \n",
       "1                                                                                             feeling amuse delight  \n",
       "2                                        able help chai lifeline support encouragement great feeling glad able help  \n",
       "3                                                                            feel like fuck not usually eat morning  \n",
       "4    love wish good long tolerate effect bm life fact turn bitter angry person particularly kind people feel stress  "
      ]
     },
     "metadata": {},
     "output_type": "display_data"
    },
    {
     "data": {
      "text/html": [
       "<div>\n",
       "<style scoped>\n",
       "    .dataframe tbody tr th:only-of-type {\n",
       "        vertical-align: middle;\n",
       "    }\n",
       "\n",
       "    .dataframe tbody tr th {\n",
       "        vertical-align: top;\n",
       "    }\n",
       "\n",
       "    .dataframe thead th {\n",
       "        text-align: right;\n",
       "    }\n",
       "</style>\n",
       "<table border=\"1\" class=\"dataframe\">\n",
       "  <thead>\n",
       "    <tr style=\"text-align: right;\">\n",
       "      <th></th>\n",
       "      <th>text</th>\n",
       "      <th>feeling</th>\n",
       "      <th>transformed_text</th>\n",
       "    </tr>\n",
       "  </thead>\n",
       "  <tbody>\n",
       "    <tr>\n",
       "      <th>0</th>\n",
       "      <td>i feel like my only role now would be to tear your sails with my pessimism and discontent</td>\n",
       "      <td>sadness</td>\n",
       "      <td>feel like role tear sail pessimism discontent</td>\n",
       "    </tr>\n",
       "    <tr>\n",
       "      <th>1</th>\n",
       "      <td>i feel just bcoz a fight we get mad to each other n u wanna make a publicity n let the world knows about our fight</td>\n",
       "      <td>anger</td>\n",
       "      <td>feel bcoz fight mad n u wanna publicity n let world know fight</td>\n",
       "    </tr>\n",
       "    <tr>\n",
       "      <th>2</th>\n",
       "      <td>i feel like reds and purples are just so rich and kind of perfect</td>\n",
       "      <td>joy</td>\n",
       "      <td>feel like red purple rich kind perfect</td>\n",
       "    </tr>\n",
       "    <tr>\n",
       "      <th>3</th>\n",
       "      <td>im not sure the feeling of loss will ever go away but it may dull to a sweet feeling of nostalgia at what i shared in this life with my dad and the luck i had to have a dad for years</td>\n",
       "      <td>sadness</td>\n",
       "      <td>m sure feeling loss away dull sweet feeling nostalgia share life dad luck dad year</td>\n",
       "    </tr>\n",
       "    <tr>\n",
       "      <th>4</th>\n",
       "      <td>i feel like ive gotten to know many of you through comments and emails and for that im appreciative and glad you are a part of this little space</td>\n",
       "      <td>joy</td>\n",
       "      <td>feel like ve get know comment email m appreciative glad little space</td>\n",
       "    </tr>\n",
       "  </tbody>\n",
       "</table>\n",
       "</div>"
      ],
      "text/plain": [
       "                                                                                                                                                                                     text  \\\n",
       "0                                                                                               i feel like my only role now would be to tear your sails with my pessimism and discontent   \n",
       "1                                                                      i feel just bcoz a fight we get mad to each other n u wanna make a publicity n let the world knows about our fight   \n",
       "2                                                                                                                       i feel like reds and purples are just so rich and kind of perfect   \n",
       "3  im not sure the feeling of loss will ever go away but it may dull to a sweet feeling of nostalgia at what i shared in this life with my dad and the luck i had to have a dad for years   \n",
       "4                                        i feel like ive gotten to know many of you through comments and emails and for that im appreciative and glad you are a part of this little space   \n",
       "\n",
       "   feeling  \\\n",
       "0  sadness   \n",
       "1    anger   \n",
       "2      joy   \n",
       "3  sadness   \n",
       "4      joy   \n",
       "\n",
       "                                                                     transformed_text  \n",
       "0                                       feel like role tear sail pessimism discontent  \n",
       "1                      feel bcoz fight mad n u wanna publicity n let world know fight  \n",
       "2                                              feel like red purple rich kind perfect  \n",
       "3  m sure feeling loss away dull sweet feeling nostalgia share life dad luck dad year  \n",
       "4                feel like ve get know comment email m appreciative glad little space  "
      ]
     },
     "metadata": {},
     "output_type": "display_data"
    }
   ],
   "source": [
    "display(df_train.head())\n",
    "display(df_test.head())"
   ]
  },
  {
   "cell_type": "markdown",
   "metadata": {},
   "source": [
    "## Building the model"
   ]
  },
  {
   "cell_type": "markdown",
   "metadata": {},
   "source": [
    "### 1) TF-IDF Vectorizer\n",
    "\n",
    "Here is the English translation:\n",
    "\n",
    "This line above creates an instance of the **TfidfVectorizer** from the scikit-learn library, which is a tool used to convert a collection of raw documents into a TF-IDF (Term Frequency-Inverse Document Frequency) feature matrix. TF-IDF is a statistical technique used to quantify the importance of a word in a set of documents, commonly employed in natural language processing tasks and information retrieval.\n",
    "\n",
    "**Parameter max_df=0.95**: This parameter defines the maximum document frequency threshold for the terms to be considered. Here, it's set to 0.95, meaning that words appearing in more than 95% of the documents will be ignored. This helps eliminate common words that do not contribute much to the meaning of the text.\n",
    "\n",
    "**Parameter min_df=2**: This parameter establishes the minimum document frequency for the terms. In this case, terms that appear in fewer than two documents will be ignored. This helps filter out rare terms that may occur in only a few samples and are, therefore, less relevant to the overall analysis.\n",
    "\n",
    "**Parameter stop_words='english'**: This parameter instructs the vectorizer to remove all English stop words from the analysis. Stop words are common words (such as \"and,\" \"the,\" \"in\") that are usually filtered out in natural language processing because they are very frequent and do not carry significant information for text analysis."
   ]
  },
  {
   "cell_type": "code",
   "execution_count": 11,
   "metadata": {},
   "outputs": [],
   "source": [
    "# Defining the vectorizer\n",
    "tf_idf = TfidfVectorizer(max_df=0.95, min_df=2, stop_words='english')\n",
    "\n",
    "df_train_tfidf = tf_idf.fit_transform(df_train['transformed_text'])\n",
    "df_test_tfidf = tf_idf.transform(df_test['transformed_text'])"
   ]
  },
  {
   "cell_type": "code",
   "execution_count": 12,
   "metadata": {},
   "outputs": [],
   "source": [
    "# Coverting the input data to array \n",
    "X_train_array = df_train_tfidf.toarray()\n",
    "X_test_array = df_test_tfidf.toarray()"
   ]
  },
  {
   "cell_type": "markdown",
   "metadata": {},
   "source": [
    "### 2) Data preparation\n",
    "\n",
    "We need to convert the target variable for numerical representation. We will use Label Encoding."
   ]
  },
  {
   "cell_type": "code",
   "execution_count": 13,
   "metadata": {},
   "outputs": [],
   "source": [
    "# Defining the Label encoder\n",
    "le = LabelEncoder()\n",
    "\n",
    "# Doing the fit and transforming the target\n",
    "y_train_le = le.fit_transform(df_train['feeling'])\n",
    "y_test_le = le.transform(df_test['feeling'])"
   ]
  },
  {
   "cell_type": "markdown",
   "metadata": {},
   "source": [
    "Let's handle with class imbalance using the function `compute_class_weight`.\n",
    "\n",
    "**compute_class_weight**: This is a function from scikit-learn that calculates the weights for the classes. These weights can be used in classification models to give more importance to underrepresented classes in the dataset.\n",
    "\n",
    "**'balanced'**: This parameter indicates that the class weights should be computed in a way that balances the dataset. This is done inversely proportional to the frequency of the classes in the dataset. More frequent classes receive a lower weight, while less frequent classes receive a higher weight.\n",
    "\n",
    "**classes = np.unique(y_treino_le)**: Here, np.unique(y_treino_le) finds all the unique classes in the training dataset. The parameter `classes` informs the `compute_class_weight` function about these unique classes.\n",
    "\n",
    "**y = y_treino_le**: This is the label vector of the training dataset. The function will use these labels to calculate the frequency of each class.\n",
    "\n",
    "The result, stored in `pesos_classes`, is an array where each class has an associated weight. These weights can be used in classification models (such as a decision tree, logistic regression, SVM, etc.) to compensate for class imbalance."
   ]
  },
  {
   "cell_type": "code",
   "execution_count": 14,
   "metadata": {},
   "outputs": [],
   "source": [
    "# Class weights\n",
    "class_weight = compute_class_weight('balanced', classes = np.unique(y_train_le), y = y_train_le)"
   ]
  },
  {
   "cell_type": "code",
   "execution_count": 15,
   "metadata": {},
   "outputs": [
    {
     "data": {
      "text/plain": [
       "((12800, 6), (2000, 6), (3200, 6))"
      ]
     },
     "execution_count": 15,
     "metadata": {},
     "output_type": "execute_result"
    }
   ],
   "source": [
    "# Data spliting\n",
    "\n",
    "X_train, X_val, y_train, y_val = train_test_split(X_train_array,\n",
    "                                                  y_train_le,\n",
    "                                                  test_size=0.2,\n",
    "                                                  stratify = y_train_le)\n",
    "\n",
    "# Converting the target to categorial\n",
    "y_train_encoded = to_categorical(y_train)\n",
    "y_test_encoded = to_categorical(y_test_le)\n",
    "y_val_encoded = to_categorical(y_val)\n",
    "\n",
    "# Shape\n",
    "y_train_encoded.shape, y_test_encoded.shape, y_val_encoded.shape"
   ]
  },
  {
   "cell_type": "markdown",
   "metadata": {},
   "source": [
    "---\n",
    "\n",
    "## 3) Building the model"
   ]
  },
  {
   "cell_type": "code",
   "execution_count": 16,
   "metadata": {},
   "outputs": [],
   "source": [
    "# Building the model\n",
    "\n",
    "# Initializing a sequential model. Sequential models are a linear stack of layers.\n",
    "model = tf.keras.Sequential()\n",
    "\n",
    "# Adding the first dense layer (fully-connected) to the model.\n",
    "model.add(\n",
    "    tf.keras.layers.Dense(4096,\n",
    "                   # Using activation function SELU (Scaled Exponential Linear Unit)\n",
    "                   activation='selu',\n",
    "                   # Initializing the weights with Lecun normal distribution\n",
    "                   kernel_initializer='lecun_normal',\n",
    "                   # Defining the input shape\n",
    "                   input_shape=(X_train.shape[1],),\n",
    "                   # Applying regularizer L2 to reduce the overfitting\n",
    "                   kernel_regularizer = tf.keras.regularizers.l2(0.01)))\n",
    "\n",
    "# Adding the second dense layer\n",
    "model.add(\n",
    "    tf.keras.layers.Dense(2048,\n",
    "                   activation='selu',\n",
    "                   kernel_initializer = 'lecun_normal',  \n",
    "                   kernel_regularizer = tf.keras.regularizers.l2(0.01)))  \n",
    "\n",
    "# Adding the third dense layer\n",
    "model.add(\n",
    "    tf.keras.layers.Dense(1024,\n",
    "                   activation='selu',\n",
    "                   kernel_initializer='lecun_normal',\n",
    "                   kernel_regularizer=tf.keras.regularizers.l2(0.1)))\n",
    "\n",
    "# Adding the fourth dense layer\n",
    "# Layer with 64 neurons and activation SELU\n",
    "model.add(tf.keras.layers.Dense(64, \n",
    "                         activation='selu'))\n",
    "\n",
    "# Adding the output layer\n",
    "# Output layer with 6 neurons and softmax activation for multiclass classification\n",
    "model.add(\n",
    "    tf.keras.layers.Dense(6,\n",
    "                   activation='softmax')\n",
    ")\n"
   ]
  },
  {
   "cell_type": "code",
   "execution_count": 17,
   "metadata": {},
   "outputs": [
    {
     "data": {
      "text/plain": [
       "<tf.Tensor: shape=(6,), dtype=float32, numpy=\n",
       "array([1.2351397 , 1.3766993 , 0.49732688, 2.0449898 , 0.5715102 ,\n",
       "       4.6620045 ], dtype=float32)>"
      ]
     },
     "execution_count": 17,
     "metadata": {},
     "output_type": "execute_result"
    }
   ],
   "source": [
    "# Assigning specific weights to the bias array of the last layer of the model\n",
    "model.layers[-1].bias.assign(class_weight)"
   ]
  },
  {
   "cell_type": "code",
   "execution_count": 18,
   "metadata": {},
   "outputs": [
    {
     "data": {
      "text/html": [
       "<pre style=\"white-space:pre;overflow-x:auto;line-height:normal;font-family:Menlo,'DejaVu Sans Mono',consolas,'Courier New',monospace\"><span style=\"font-weight: bold\">Model: \"sequential\"</span>\n",
       "</pre>\n"
      ],
      "text/plain": [
       "\u001b[1mModel: \"sequential\"\u001b[0m\n"
      ]
     },
     "metadata": {},
     "output_type": "display_data"
    },
    {
     "data": {
      "text/html": [
       "<pre style=\"white-space:pre;overflow-x:auto;line-height:normal;font-family:Menlo,'DejaVu Sans Mono',consolas,'Courier New',monospace\">┏━━━━━━━━━━━━━━━━━━━━━━━━━━━━━━━━━┳━━━━━━━━━━━━━━━━━━━━━━━━┳━━━━━━━━━━━━━━━┓\n",
       "┃<span style=\"font-weight: bold\"> Layer (type)                    </span>┃<span style=\"font-weight: bold\"> Output Shape           </span>┃<span style=\"font-weight: bold\">       Param # </span>┃\n",
       "┡━━━━━━━━━━━━━━━━━━━━━━━━━━━━━━━━━╇━━━━━━━━━━━━━━━━━━━━━━━━╇━━━━━━━━━━━━━━━┩\n",
       "│ dense (<span style=\"color: #0087ff; text-decoration-color: #0087ff\">Dense</span>)                   │ (<span style=\"color: #00d7ff; text-decoration-color: #00d7ff\">None</span>, <span style=\"color: #00af00; text-decoration-color: #00af00\">4096</span>)           │    <span style=\"color: #00af00; text-decoration-color: #00af00\">22,884,352</span> │\n",
       "├─────────────────────────────────┼────────────────────────┼───────────────┤\n",
       "│ dense_1 (<span style=\"color: #0087ff; text-decoration-color: #0087ff\">Dense</span>)                 │ (<span style=\"color: #00d7ff; text-decoration-color: #00d7ff\">None</span>, <span style=\"color: #00af00; text-decoration-color: #00af00\">2048</span>)           │     <span style=\"color: #00af00; text-decoration-color: #00af00\">8,390,656</span> │\n",
       "├─────────────────────────────────┼────────────────────────┼───────────────┤\n",
       "│ dense_2 (<span style=\"color: #0087ff; text-decoration-color: #0087ff\">Dense</span>)                 │ (<span style=\"color: #00d7ff; text-decoration-color: #00d7ff\">None</span>, <span style=\"color: #00af00; text-decoration-color: #00af00\">1024</span>)           │     <span style=\"color: #00af00; text-decoration-color: #00af00\">2,098,176</span> │\n",
       "├─────────────────────────────────┼────────────────────────┼───────────────┤\n",
       "│ dense_3 (<span style=\"color: #0087ff; text-decoration-color: #0087ff\">Dense</span>)                 │ (<span style=\"color: #00d7ff; text-decoration-color: #00d7ff\">None</span>, <span style=\"color: #00af00; text-decoration-color: #00af00\">64</span>)             │        <span style=\"color: #00af00; text-decoration-color: #00af00\">65,600</span> │\n",
       "├─────────────────────────────────┼────────────────────────┼───────────────┤\n",
       "│ dense_4 (<span style=\"color: #0087ff; text-decoration-color: #0087ff\">Dense</span>)                 │ (<span style=\"color: #00d7ff; text-decoration-color: #00d7ff\">None</span>, <span style=\"color: #00af00; text-decoration-color: #00af00\">6</span>)              │           <span style=\"color: #00af00; text-decoration-color: #00af00\">390</span> │\n",
       "└─────────────────────────────────┴────────────────────────┴───────────────┘\n",
       "</pre>\n"
      ],
      "text/plain": [
       "┏━━━━━━━━━━━━━━━━━━━━━━━━━━━━━━━━━┳━━━━━━━━━━━━━━━━━━━━━━━━┳━━━━━━━━━━━━━━━┓\n",
       "┃\u001b[1m \u001b[0m\u001b[1mLayer (type)                   \u001b[0m\u001b[1m \u001b[0m┃\u001b[1m \u001b[0m\u001b[1mOutput Shape          \u001b[0m\u001b[1m \u001b[0m┃\u001b[1m \u001b[0m\u001b[1m      Param #\u001b[0m\u001b[1m \u001b[0m┃\n",
       "┡━━━━━━━━━━━━━━━━━━━━━━━━━━━━━━━━━╇━━━━━━━━━━━━━━━━━━━━━━━━╇━━━━━━━━━━━━━━━┩\n",
       "│ dense (\u001b[38;5;33mDense\u001b[0m)                   │ (\u001b[38;5;45mNone\u001b[0m, \u001b[38;5;34m4096\u001b[0m)           │    \u001b[38;5;34m22,884,352\u001b[0m │\n",
       "├─────────────────────────────────┼────────────────────────┼───────────────┤\n",
       "│ dense_1 (\u001b[38;5;33mDense\u001b[0m)                 │ (\u001b[38;5;45mNone\u001b[0m, \u001b[38;5;34m2048\u001b[0m)           │     \u001b[38;5;34m8,390,656\u001b[0m │\n",
       "├─────────────────────────────────┼────────────────────────┼───────────────┤\n",
       "│ dense_2 (\u001b[38;5;33mDense\u001b[0m)                 │ (\u001b[38;5;45mNone\u001b[0m, \u001b[38;5;34m1024\u001b[0m)           │     \u001b[38;5;34m2,098,176\u001b[0m │\n",
       "├─────────────────────────────────┼────────────────────────┼───────────────┤\n",
       "│ dense_3 (\u001b[38;5;33mDense\u001b[0m)                 │ (\u001b[38;5;45mNone\u001b[0m, \u001b[38;5;34m64\u001b[0m)             │        \u001b[38;5;34m65,600\u001b[0m │\n",
       "├─────────────────────────────────┼────────────────────────┼───────────────┤\n",
       "│ dense_4 (\u001b[38;5;33mDense\u001b[0m)                 │ (\u001b[38;5;45mNone\u001b[0m, \u001b[38;5;34m6\u001b[0m)              │           \u001b[38;5;34m390\u001b[0m │\n",
       "└─────────────────────────────────┴────────────────────────┴───────────────┘\n"
      ]
     },
     "metadata": {},
     "output_type": "display_data"
    },
    {
     "data": {
      "text/html": [
       "<pre style=\"white-space:pre;overflow-x:auto;line-height:normal;font-family:Menlo,'DejaVu Sans Mono',consolas,'Courier New',monospace\"><span style=\"font-weight: bold\"> Total params: </span><span style=\"color: #00af00; text-decoration-color: #00af00\">33,439,174</span> (127.56 MB)\n",
       "</pre>\n"
      ],
      "text/plain": [
       "\u001b[1m Total params: \u001b[0m\u001b[38;5;34m33,439,174\u001b[0m (127.56 MB)\n"
      ]
     },
     "metadata": {},
     "output_type": "display_data"
    },
    {
     "data": {
      "text/html": [
       "<pre style=\"white-space:pre;overflow-x:auto;line-height:normal;font-family:Menlo,'DejaVu Sans Mono',consolas,'Courier New',monospace\"><span style=\"font-weight: bold\"> Trainable params: </span><span style=\"color: #00af00; text-decoration-color: #00af00\">33,439,174</span> (127.56 MB)\n",
       "</pre>\n"
      ],
      "text/plain": [
       "\u001b[1m Trainable params: \u001b[0m\u001b[38;5;34m33,439,174\u001b[0m (127.56 MB)\n"
      ]
     },
     "metadata": {},
     "output_type": "display_data"
    },
    {
     "data": {
      "text/html": [
       "<pre style=\"white-space:pre;overflow-x:auto;line-height:normal;font-family:Menlo,'DejaVu Sans Mono',consolas,'Courier New',monospace\"><span style=\"font-weight: bold\"> Non-trainable params: </span><span style=\"color: #00af00; text-decoration-color: #00af00\">0</span> (0.00 B)\n",
       "</pre>\n"
      ],
      "text/plain": [
       "\u001b[1m Non-trainable params: \u001b[0m\u001b[38;5;34m0\u001b[0m (0.00 B)\n"
      ]
     },
     "metadata": {},
     "output_type": "display_data"
    }
   ],
   "source": [
    "\n",
    "# Compiling the model\n",
    "\n",
    "# Defining Adam optimizer\n",
    "# Adam is an optimization algorithm that can be used in place of the classical stochastic gradient descent \n",
    "# procedure to iteratively update network weights based on training data. It defines the loss function as 'categorical_crossentropy'. \n",
    "# It is suitable for multiclass classification problems, where labels are provided in a one-hot encoded format. \n",
    "# It defines the model evaluation metric as 'accuracy'. Accuracy is a common metric for evaluating the performance of classification models.\n",
    "model.compile(optimizer='Adam',\n",
    "              loss=tf.losses.categorical_crossentropy,\n",
    "              metrics=['accuracy'])\n",
    "\n",
    "model.summary()"
   ]
  },
  {
   "cell_type": "markdown",
   "metadata": {},
   "source": [
    "## 5) Callbacks and Early Stopping"
   ]
  },
  {
   "cell_type": "code",
   "execution_count": 19,
   "metadata": {},
   "outputs": [],
   "source": [
    "def step_decay(epoch):\n",
    "    initial_rate = 0.001\n",
    "    drop = 0.5\n",
    "    epochs_drop = 10.0\n",
    "    lrate = initial_rate * math.pow(drop, math.floor((1 + epoch) / epochs_drop))\n",
    "    return lrate"
   ]
  },
  {
   "cell_type": "code",
   "execution_count": 20,
   "metadata": {},
   "outputs": [],
   "source": [
    "# Learning rate Scheduler\n",
    "lr_scheduler = tf.keras.callbacks.LearningRateScheduler(step_decay)\n",
    "\n",
    "# Early stopping\n",
    "early_stopping = tf.keras.callbacks.EarlyStopping(monitor='val_loss', restore_best_weights=True, patience=5)"
   ]
  },
  {
   "cell_type": "markdown",
   "metadata": {},
   "source": [
    "## 6) Training the model"
   ]
  },
  {
   "cell_type": "code",
   "execution_count": 21,
   "metadata": {},
   "outputs": [
    {
     "name": "stdout",
     "output_type": "stream",
     "text": [
      "Epoch 1/20\n",
      "\u001b[1m50/50\u001b[0m \u001b[32m━━━━━━━━━━━━━━━━━━━━\u001b[0m\u001b[37m\u001b[0m \u001b[1m14s\u001b[0m 258ms/step - accuracy: 0.4931 - loss: 78.1347 - val_accuracy: 0.7481 - val_loss: 2.3046 - learning_rate: 0.0010\n",
      "Epoch 2/20\n",
      "\u001b[1m50/50\u001b[0m \u001b[32m━━━━━━━━━━━━━━━━━━━━\u001b[0m\u001b[37m\u001b[0m \u001b[1m13s\u001b[0m 258ms/step - accuracy: 0.7787 - loss: 1.7308 - val_accuracy: 0.7847 - val_loss: 1.3326 - learning_rate: 0.0010\n",
      "Epoch 3/20\n",
      "\u001b[1m50/50\u001b[0m \u001b[32m━━━━━━━━━━━━━━━━━━━━\u001b[0m\u001b[37m\u001b[0m \u001b[1m13s\u001b[0m 253ms/step - accuracy: 0.8254 - loss: 1.2065 - val_accuracy: 0.8138 - val_loss: 1.2374 - learning_rate: 0.0010\n",
      "Epoch 4/20\n",
      "\u001b[1m50/50\u001b[0m \u001b[32m━━━━━━━━━━━━━━━━━━━━\u001b[0m\u001b[37m\u001b[0m \u001b[1m13s\u001b[0m 254ms/step - accuracy: 0.8562 - loss: 1.0953 - val_accuracy: 0.8297 - val_loss: 1.1805 - learning_rate: 0.0010\n",
      "Epoch 5/20\n",
      "\u001b[1m50/50\u001b[0m \u001b[32m━━━━━━━━━━━━━━━━━━━━\u001b[0m\u001b[37m\u001b[0m \u001b[1m13s\u001b[0m 257ms/step - accuracy: 0.8866 - loss: 0.9895 - val_accuracy: 0.8388 - val_loss: 1.1226 - learning_rate: 0.0010\n",
      "Epoch 6/20\n",
      "\u001b[1m50/50\u001b[0m \u001b[32m━━━━━━━━━━━━━━━━━━━━\u001b[0m\u001b[37m\u001b[0m \u001b[1m13s\u001b[0m 260ms/step - accuracy: 0.9092 - loss: 0.9122 - val_accuracy: 0.8303 - val_loss: 1.0905 - learning_rate: 0.0010\n",
      "Epoch 7/20\n",
      "\u001b[1m50/50\u001b[0m \u001b[32m━━━━━━━━━━━━━━━━━━━━\u001b[0m\u001b[37m\u001b[0m \u001b[1m13s\u001b[0m 259ms/step - accuracy: 0.9192 - loss: 0.8624 - val_accuracy: 0.8306 - val_loss: 1.1087 - learning_rate: 0.0010\n",
      "Epoch 8/20\n",
      "\u001b[1m50/50\u001b[0m \u001b[32m━━━━━━━━━━━━━━━━━━━━\u001b[0m\u001b[37m\u001b[0m \u001b[1m13s\u001b[0m 251ms/step - accuracy: 0.9321 - loss: 0.8161 - val_accuracy: 0.8456 - val_loss: 1.0876 - learning_rate: 0.0010\n",
      "Epoch 9/20\n",
      "\u001b[1m50/50\u001b[0m \u001b[32m━━━━━━━━━━━━━━━━━━━━\u001b[0m\u001b[37m\u001b[0m \u001b[1m13s\u001b[0m 259ms/step - accuracy: 0.9333 - loss: 0.8219 - val_accuracy: 0.8453 - val_loss: 1.1067 - learning_rate: 0.0010\n",
      "Epoch 10/20\n",
      "\u001b[1m50/50\u001b[0m \u001b[32m━━━━━━━━━━━━━━━━━━━━\u001b[0m\u001b[37m\u001b[0m \u001b[1m13s\u001b[0m 255ms/step - accuracy: 0.9531 - loss: 0.7100 - val_accuracy: 0.8553 - val_loss: 0.7730 - learning_rate: 5.0000e-04\n",
      "Epoch 11/20\n",
      "\u001b[1m50/50\u001b[0m \u001b[32m━━━━━━━━━━━━━━━━━━━━\u001b[0m\u001b[37m\u001b[0m \u001b[1m13s\u001b[0m 252ms/step - accuracy: 0.9737 - loss: 0.4629 - val_accuracy: 0.8487 - val_loss: 0.7543 - learning_rate: 5.0000e-04\n",
      "Epoch 12/20\n",
      "\u001b[1m50/50\u001b[0m \u001b[32m━━━━━━━━━━━━━━━━━━━━\u001b[0m\u001b[37m\u001b[0m \u001b[1m13s\u001b[0m 251ms/step - accuracy: 0.9772 - loss: 0.4288 - val_accuracy: 0.8494 - val_loss: 0.7447 - learning_rate: 5.0000e-04\n",
      "Epoch 13/20\n",
      "\u001b[1m50/50\u001b[0m \u001b[32m━━━━━━━━━━━━━━━━━━━━\u001b[0m\u001b[37m\u001b[0m \u001b[1m13s\u001b[0m 257ms/step - accuracy: 0.9760 - loss: 0.4218 - val_accuracy: 0.8512 - val_loss: 0.7516 - learning_rate: 5.0000e-04\n",
      "Epoch 14/20\n",
      "\u001b[1m50/50\u001b[0m \u001b[32m━━━━━━━━━━━━━━━━━━━━\u001b[0m\u001b[37m\u001b[0m \u001b[1m13s\u001b[0m 253ms/step - accuracy: 0.9735 - loss: 0.4290 - val_accuracy: 0.8431 - val_loss: 0.7682 - learning_rate: 5.0000e-04\n",
      "Epoch 15/20\n",
      "\u001b[1m50/50\u001b[0m \u001b[32m━━━━━━━━━━━━━━━━━━━━\u001b[0m\u001b[37m\u001b[0m \u001b[1m13s\u001b[0m 256ms/step - accuracy: 0.9726 - loss: 0.4287 - val_accuracy: 0.8466 - val_loss: 0.7452 - learning_rate: 5.0000e-04\n",
      "Epoch 16/20\n",
      "\u001b[1m50/50\u001b[0m \u001b[32m━━━━━━━━━━━━━━━━━━━━\u001b[0m\u001b[37m\u001b[0m \u001b[1m13s\u001b[0m 257ms/step - accuracy: 0.9751 - loss: 0.4099 - val_accuracy: 0.8528 - val_loss: 0.7548 - learning_rate: 5.0000e-04\n",
      "Epoch 17/20\n",
      "\u001b[1m50/50\u001b[0m \u001b[32m━━━━━━━━━━━━━━━━━━━━\u001b[0m\u001b[37m\u001b[0m \u001b[1m13s\u001b[0m 257ms/step - accuracy: 0.9768 - loss: 0.4035 - val_accuracy: 0.8462 - val_loss: 0.7804 - learning_rate: 5.0000e-04\n",
      "CPU times: total: 30min 35s\n",
      "Wall time: 3min 38s\n"
     ]
    }
   ],
   "source": [
    "%%time\n",
    "\n",
    "# Hyperparameters\n",
    "epochs_len = 20\n",
    "batch_size = 256\n",
    "\n",
    "history = model.fit(\n",
    "    X_train,\n",
    "    y_train_encoded,\n",
    "    validation_data = (X_val, y_val_encoded),\n",
    "    epochs = epochs_len,\n",
    "    batch_size = batch_size,\n",
    "    callbacks = [early_stopping, lr_scheduler]\n",
    ")"
   ]
  },
  {
   "cell_type": "markdown",
   "metadata": {},
   "source": [
    "## 7) Model evaluation"
   ]
  },
  {
   "cell_type": "code",
   "execution_count": 22,
   "metadata": {},
   "outputs": [],
   "source": [
    "# Extracing the errors\n",
    "loss, val_loss = history.history['loss'], history.history['val_loss']"
   ]
  },
  {
   "cell_type": "code",
   "execution_count": 23,
   "metadata": {},
   "outputs": [
    {
     "data": {
      "image/png": "[encoded data removed]",
      "text/plain": [
       "<Figure size 640x480 with 1 Axes>"
      ]
     },
     "metadata": {},
     "output_type": "display_data"
    }
   ],
   "source": [
    "# Plot\n",
    "plt.plot(loss, label = 'loss')\n",
    "plt.plot(val_loss, label = 'val_loss')\n",
    "plt.legend()\n",
    "plt.show()"
   ]
  },
  {
   "cell_type": "code",
   "execution_count": 24,
   "metadata": {},
   "outputs": [
    {
     "name": "stdout",
     "output_type": "stream",
     "text": [
      "\u001b[1m63/63\u001b[0m \u001b[32m━━━━━━━━━━━━━━━━━━━━\u001b[0m\u001b[37m\u001b[0m \u001b[1m1s\u001b[0m 15ms/step\n",
      "Metrics\n",
      "              precision    recall  f1-score   support\n",
      "\n",
      "           0       0.89      0.78      0.83       275\n",
      "           1       0.86      0.84      0.85       224\n",
      "           2       0.88      0.90      0.89       695\n",
      "           3       0.66      0.76      0.71       159\n",
      "           4       0.88      0.90      0.89       581\n",
      "           5       0.76      0.64      0.69        66\n",
      "\n",
      "    accuracy                           0.86      2000\n",
      "   macro avg       0.82      0.80      0.81      2000\n",
      "weighted avg       0.86      0.86      0.86      2000\n",
      "\n",
      "Confusion Matrix\n",
      "[[214  11  14   2  33   1]\n",
      " [  5 189   9   0  16   5]\n",
      " [  4   1 623  52   9   6]\n",
      " [  2   2  25 121   8   1]\n",
      " [ 15   6  30   8 522   0]\n",
      " [  0  12   9   1   2  42]]\n",
      "Accuracy\n",
      "0.8555\n"
     ]
    }
   ],
   "source": [
    "# Predictions with test data\n",
    "predictions = model.predict(X_test_array)\n",
    "\n",
    "# Extracting the labels\n",
    "predictions_labels = predictions.argmax(axis = 1)\n",
    "\n",
    "# Metrics\n",
    "print('Metrics')\n",
    "print(classification_report(y_test_le, predictions_labels))\n",
    "\n",
    "# Confusion matrix\n",
    "print('Confusion Matrix')\n",
    "print(confusion_matrix(y_test_le, predictions_labels))\n",
    "\n",
    "# Accuracy\n",
    "print('Accuracy')\n",
    "print(accuracy_score(y_test_le, predictions_labels))"
   ]
  },
  {
   "cell_type": "code",
   "execution_count": 70,
   "metadata": {},
   "outputs": [],
   "source": [
    "# Saving the model\n",
    "model.save('models/model_v1.keras')"
   ]
  },
  {
   "cell_type": "markdown",
   "metadata": {},
   "source": [
    "---\n",
    "\n",
    "## 8) Loading model"
   ]
  },
  {
   "cell_type": "code",
   "execution_count": null,
   "metadata": {},
   "outputs": [],
   "source": [
    "# Loading the model\n",
    "loaded_model = tf.keras.models.load_model('models/model_v1.keras')\n",
    "\n",
    "# New sentence\n",
    "sentence = 'I am distressed because my girlfriend is sick'\n",
    "\n",
    "# Creating a dataframe with the sentence\n",
    "df_new = pd.DataFrame({'text': [sentence]})\n",
    "\n",
    "# Applying processing function\n",
    "df_new['transformed_text'] = df_new['text'].apply(data_preprocessing)\n",
    "\n",
    "df_new.head()"
   ]
  },
  {
   "cell_type": "code",
   "execution_count": null,
   "metadata": {},
   "outputs": [],
   "source": [
    "# Vectorizing\n",
    "df_new_tfidf = tf_idf.transform(df_new['transformed_text'])\n",
    "\n",
    "# To array\n",
    "df_new_array = df_new_tfidf.toarray()\n",
    "\n",
    "# Previsões\n",
    "prediction = loaded_model.predict(df_new_array)\n",
    "\n",
    "# Seleciona a classe com maior probabilidade\n",
    "class_prob = np.argmax(prediction, axis = 1)\n",
    "\n",
    "# Obtém o nome da classe\n",
    "class_label = le.inverse_transform(class_prob)\n",
    "\n",
    "# Class predicted\n",
    "print(f'The feeling is {class_label}')"
   ]
  },
  {
   "cell_type": "markdown",
   "metadata": {},
   "source": [
    "## The End"
   ]
  }
 ],
 "metadata": {
  "kernelspec": {
   "display_name": "transformers",
   "language": "python",
   "name": "python3"
  },
  "language_info": {
   "codemirror_mode": {
    "name": "ipython",
    "version": 3
   },
   "file_extension": ".py",
   "mimetype": "text/x-python",
   "name": "python",
   "nbconvert_exporter": "python",
   "pygments_lexer": "ipython3",
   "version": "3.12.3"
  }
 },
 "nbformat": 4,
 "nbformat_minor": 2
}
