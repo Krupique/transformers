{
 "cells": [
  {
   "cell_type": "markdown",
   "metadata": {},
   "source": [
    "# Lang GPT - AI Assistent to help you learn English"
   ]
  },
  {
   "cell_type": "markdown",
   "metadata": {},
   "source": [
    "## Imports"
   ]
  },
  {
   "cell_type": "code",
   "execution_count": 1,
   "metadata": {},
   "outputs": [],
   "source": [
    "# !pip install speech_recognition\n",
    "# !pip install gtts pygame\n",
    "# !pip install openai"
   ]
  },
  {
   "cell_type": "code",
   "execution_count": 2,
   "metadata": {},
   "outputs": [
    {
     "name": "stdout",
     "output_type": "stream",
     "text": [
      "pygame 2.6.1 (SDL 2.28.4, Python 3.12.3)\n",
      "Hello from the pygame community. https://www.pygame.org/contribute.html\n"
     ]
    }
   ],
   "source": [
    "import speech_recognition as sr\n",
    "import pygame\n",
    "\n",
    "from IPython.display import clear_output\n",
    "from gtts import gTTS\n",
    "from openai import OpenAI"
   ]
  },
  {
   "cell_type": "markdown",
   "metadata": {},
   "source": [
    "## Functions"
   ]
  },
  {
   "cell_type": "markdown",
   "metadata": {},
   "source": [
    "### Voice to text (Voice recognition)"
   ]
  },
  {
   "cell_type": "code",
   "execution_count": 3,
   "metadata": {},
   "outputs": [],
   "source": [
    "# Function to recognize speech and adjust waiting time between words\n",
    "def recognize_speech_with_pause():\n",
    "    # Initialize the recognizer\n",
    "    recognizer = sr.Recognizer()\n",
    "\n",
    "    # custom pause threshold\n",
    "    recognizer.pause_threshold = 5\n",
    "\n",
    "    # Setting the microphone as the audio source\n",
    "    with sr.Microphone() as source:\n",
    "        print(\"Please speak something...\")\n",
    "\n",
    "        # Adjust for ambient noise\n",
    "        recognizer.adjust_for_ambient_noise(source)\n",
    "\n",
    "        # Listening to the audio\n",
    "        audio = recognizer.listen(source, timeout=10, phrase_time_limit=20) \n",
    "\n",
    "    # Recognize speech using Google's speech recognition API\n",
    "    try:\n",
    "        print(\"Recognizing...\")\n",
    "        text = recognizer.recognize_google(audio)\n",
    "        return text\n",
    "    except sr.UnknownValueError:\n",
    "        return \"Sorry, I could not understand the audio.\"\n",
    "    except sr.RequestError:\n",
    "        return \"Sorry, there was an issue with the request.\""
   ]
  },
  {
   "cell_type": "markdown",
   "metadata": {},
   "source": [
    "### Text to voice\n",
    "\n",
    "You can visit the documentation and choose another language or accent: https://gtts.readthedocs.io/en/latest/module.html#module-gtts.lang\n",
    "\n",
    "|Local accent   |Language code  | (lang) Top-level domain (tld) |\n",
    "|---------------|---------------|---------------|\n",
    "|English (Australia)        | en     | com.au   |\n",
    "|English (United Kingdom)   | en     | co.uk    |\n",
    "|English (United States)    | en     | us       |\n",
    "|English (Canada)           | en     | ca       |\n",
    "|English (India)            | en     | co.in    |\n",
    "|English (Ireland)          | en     | ie       |\n",
    "|English (South Africa)     | en     | co.za    |\n",
    "|English (Nigeria)          | en     | com.ng   |\n",
    "|French (Canada)            | fr     | ca       |\n",
    "|French (France)            | fr     | fr       |\n",
    "|Mandarin (China Mainland)  | zh-CN  | any      |\n",
    "|Mandarin (Taiwan)          | zh-TW  | any      |\n",
    "|Portuguese (Brazil)        | pt     | com.br   |\n",
    "|Portuguese (Portugal)      | pt     | pt       |\n",
    "|Spanish (Mexico)           | es     | com.mx   |\n",
    "|Spanish (Spain)            | es     | es       |\n",
    "|Spanish (United States)    | es     | us       |"
   ]
  },
  {
   "cell_type": "code",
   "execution_count": 4,
   "metadata": {},
   "outputs": [],
   "source": [
    "def text_to_speech(text, filename=\"output.mp3\", lang='en', tld='us'):\n",
    "    # Create the gTTS object\n",
    "    tts = gTTS(text=text, lang=lang, tld=tld, slow=False)\n",
    "\n",
    "    # Saving the audio to a file\n",
    "    tts.save(filename)\n",
    "    print(f\"Audio saved as {filename}\")\n",
    "\n",
    "    # Initialize pygame mixer\n",
    "    pygame.mixer.init()\n",
    "\n",
    "    try:\n",
    "        # Load and play the audio\n",
    "        pygame.mixer.music.load(filename)\n",
    "        pygame.mixer.music.play()\n",
    "\n",
    "        # Wait until the audio is finished playing\n",
    "        while pygame.mixer.music.get_busy():  # Check if music is playing\n",
    "            continue  \n",
    "    finally:\n",
    "        # Stop the music and quit the mixer\n",
    "        pygame.mixer.music.stop()\n",
    "        pygame.mixer.quit()\n"
   ]
  },
  {
   "cell_type": "markdown",
   "metadata": {},
   "source": [
    "### Communication with ChatGPT\n",
    "\n",
    "You can see other models here: https://platform.openai.com/docs/models"
   ]
  },
  {
   "cell_type": "code",
   "execution_count": 5,
   "metadata": {},
   "outputs": [],
   "source": [
    "# Define a class named ChatBot to create a chatbot instance\n",
    "class ChatBot:\n",
    "    \n",
    "    # Initialize the ChatBot instance with a client and conversation history\n",
    "    def __init__(self, secret_key):\n",
    "        # Create an OpenAI client instance using a provided API key\n",
    "        self.client = OpenAI(api_key=secret_key)\n",
    "        \n",
    "        # Initialize a conversation history list with a system message\n",
    "        # setting the assistant's role to \"English teacher\"\n",
    "        self.history = [{'role': 'system', 'content': \"You are a English teacher.\"}]\n",
    "\n",
    "    # Define a method to generate a response based on user input\n",
    "    def generate_response(self, prompt: str) -> str:\n",
    "        # Add the user's message to the conversation history\n",
    "        self.history.append({'role': 'user', 'content': prompt})\n",
    "\n",
    "        # Use the OpenAI client to create a response with the conversation history\n",
    "        completion = self.client.chat.completions.create(\n",
    "            model='gpt-4o-mini', # Specify the model to use\n",
    "            messages=self.history # Pass the conversation history to maintain context\n",
    "        )\n",
    "\n",
    "        # Extract the assistant's response from the API response\n",
    "        response = completion.choices[0].message.content\n",
    "        # Add the assistant's response to the conversation history\n",
    "        self.history.append({'role': 'assistant', 'content': response})\n",
    "\n",
    "        return response\n",
    "    \n",
    "    # Define a method to retrieve the full conversation history\n",
    "    def get_history(self) -> list:\n",
    "        return self.history\n",
    "    \n",
    "# print(bot.get_history()) # Helpful function"
   ]
  },
  {
   "cell_type": "markdown",
   "metadata": {},
   "source": [
    "## Main"
   ]
  },
  {
   "cell_type": "markdown",
   "metadata": {},
   "source": [
    "Check billing GPT API: https://platform.openai.com/settings/organization/billing/overview"
   ]
  },
  {
   "cell_type": "code",
   "execution_count": 6,
   "metadata": {},
   "outputs": [],
   "source": [
    "# Open the file in read mode\n",
    "with open(\"ignore/config.txt\", \"r\") as file:\n",
    "    secret_key = file.read()  # Read the entire file content\n"
   ]
  },
  {
   "cell_type": "code",
   "execution_count": 7,
   "metadata": {},
   "outputs": [
    {
     "name": "stdout",
     "output_type": "stream",
     "text": [
      "Please speak something...\n",
      "Loop interrupted by user.\n"
     ]
    }
   ],
   "source": [
    "# Initialize an instance of the ChatBot class\n",
    "bot = ChatBot(secret_key)\n",
    "# Define an initial question to set the chatbot's behavior\n",
    "start_question = \"I am studying English, so let's talk in English. Let's discuss a random topic. I want your answer to be in two topics. The first is that you correct my grammar mistakes when I write something wrong. The second topic is that when I type my sentence, you rephrase it so that it is more complete and more coherent. You can start by asking a question about a random topic\"\n",
    "\n",
    "# Generate the chatbot's response to the initial question and output it\n",
    "response = bot.generate_response(start_question)\n",
    "print(response)\n",
    "# Convert the chatbot's response to speech using text_to_speech\n",
    "text_to_speech(response)\n",
    "\n",
    "# Use speech recognition to capture the user's response and display it\n",
    "recognized_text = recognize_speech_with_pause()\n",
    "print(\"You said:\", recognized_text)\n",
    "\n",
    "# Run the main loop to continue conversation until manually interrupted\n",
    "try:\n",
    "    while True:\n",
    "        print('\\n')\n",
    "\n",
    "        # Generate a response from the bot using the recognized text\n",
    "        response = bot.generate_response(recognized_text)\n",
    "        print(response)\n",
    "        # Convert the chatbot's response to speech\n",
    "        text_to_speech(response)\n",
    "\n",
    "        # Clear output\n",
    "        clear_output(wait=True)\n",
    "\n",
    "        # Capture the next user input using speech recognition\n",
    "        recognized_text = recognize_speech_with_pause()\n",
    "        print(\"You said:\", recognized_text)\n",
    "\n",
    "# Handle the manual interruption (e.g., Ctrl+C) and exit the loop\n",
    "except KeyboardInterrupt:\n",
    "    print(\"Loop interrupted by user.\")\n",
    "\n"
   ]
  },
  {
   "cell_type": "markdown",
   "metadata": {},
   "source": []
  }
 ],
 "metadata": {
  "kernelspec": {
   "display_name": "pyaudio",
   "language": "python",
   "name": "python3"
  },
  "language_info": {
   "codemirror_mode": {
    "name": "ipython",
    "version": 3
   },
   "file_extension": ".py",
   "mimetype": "text/x-python",
   "name": "python",
   "nbconvert_exporter": "python",
   "pygments_lexer": "ipython3",
   "version": "3.12.3"
  }
 },
 "nbformat": 4,
 "nbformat_minor": 2
}
